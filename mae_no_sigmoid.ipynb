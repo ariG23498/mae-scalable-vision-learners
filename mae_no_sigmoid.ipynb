{
  "nbformat": 4,
  "nbformat_minor": 0,
  "metadata": {
    "colab": {
      "name": "mae.ipynb",
      "provenance": [],
      "collapsed_sections": [],
      "machine_shape": "hm",
      "authorship_tag": "ABX9TyPgj7yarx9RRl/q6cCCHTST"
    },
    "kernelspec": {
      "name": "python3",
      "display_name": "Python 3"
    },
    "language_info": {
      "name": "python"
    },
    "accelerator": "GPU"
  },
  "cells": [
    {
      "cell_type": "markdown",
      "metadata": {
        "id": "p-tCUmKj99CG"
      },
      "source": [
        "# Masked Autoencoders Are Scalable Vision Learners\n",
        "\n",
        "This notebook is a TF2.x implementation of [Masked Autoencoders Are Scalable Vision Learners](https://arxiv.org/abs/2111.06377) by He et. al.\n",
        "\n",
        "The notebook uses the following resources as references:\n",
        "\n",
        "- [Image classification with Vision Transformer](https://keras.io/examples/vision/image_classification_with_vision_transformer/)"
      ]
    },
    {
      "cell_type": "markdown",
      "metadata": {
        "id": "i8pvWN_--Veq"
      },
      "source": [
        "# Import & Setup"
      ]
    },
    {
      "cell_type": "code",
      "metadata": {
        "id": "80ZKaTtG9zw9"
      },
      "source": [
        "!pip install -q tensorflow-addons"
      ],
      "execution_count": null,
      "outputs": []
    },
    {
      "cell_type": "code",
      "metadata": {
        "id": "NTZxVZLk-aLN"
      },
      "source": [
        "from tensorflow.keras import layers\n",
        "import tensorflow_addons as tfa\n",
        "from tensorflow import keras\n",
        "import tensorflow as tf\n",
        "\n",
        "from datetime import datetime\n",
        "import matplotlib.pyplot as plt\n",
        "import numpy as np\n",
        "import random\n",
        "\n",
        "# Setting seeds for reproducibility.\n",
        "SEED = 42\n",
        "tf.random.set_seed(SEED)\n",
        "np.random.seed(SEED)\n",
        "random.seed(SEED)"
      ],
      "execution_count": null,
      "outputs": []
    },
    {
      "cell_type": "code",
      "metadata": {
        "id": "oNM1SbqG-iHN"
      },
      "source": [
        "# DATA\n",
        "BUFFER_SIZE = 1024\n",
        "BATCH_SIZE = 512\n",
        "AUTO = tf.data.AUTOTUNE\n",
        "INPUT_SHAPE = (32, 32, 3)\n",
        "NUM_CLASSES = 10\n",
        "\n",
        "# OPTIMIZER\n",
        "LEARNING_RATE = 1e-3\n",
        "WEIGHT_DECAY = 1e-4\n",
        "\n",
        "# TRAINING\n",
        "EPOCHS = 100\n",
        "\n",
        "# AUGMENTATION\n",
        "IMAGE_SIZE = 72  # We'll resize input images to this size.\n",
        "PATCH_SIZE = 6  # Size of the patches to be extract from the input images.\n",
        "NUM_PATCHES = (IMAGE_SIZE // PATCH_SIZE) ** 2\n",
        "MASK_PROPORTION = 0.6\n",
        "\n",
        "# ENCODER and DECODER\n",
        "LAYER_NORM_EPS = 1e-6\n",
        "ENC_PROJECTION_DIM = 128\n",
        "DEC_PROJECTION_DIM = 64\n",
        "ENC_NUM_HEADS = 2\n",
        "ENC_LAYERS = 3\n",
        "DEC_NUM_HEADS = 2\n",
        "DEC_LAYERS = 1 # The decoder is lightweight but should be reasonably deep for reconstruction.\n",
        "ENC_TRANSFORMER_UNITS = [\n",
        "    ENC_PROJECTION_DIM * 2,\n",
        "    ENC_PROJECTION_DIM,\n",
        "]  # Size of the transformer layers.\n",
        "DEC_TRANSFORMER_UNITS = [\n",
        "    DEC_PROJECTION_DIM * 2,\n",
        "    DEC_PROJECTION_DIM,\n",
        "]"
      ],
      "execution_count": null,
      "outputs": []
    },
    {
      "cell_type": "markdown",
      "metadata": {
        "id": "r2qI0r9N_TeW"
      },
      "source": [
        "# Dataset\n",
        "\n",
        "Using **CIFAR10** for our implementation."
      ]
    },
    {
      "cell_type": "code",
      "metadata": {
        "id": "lMOYr_h1_QY6"
      },
      "source": [
        "(x_train, y_train), (x_test, y_test) = keras.datasets.cifar10.load_data()\n",
        "(x_train, y_train), (x_val, y_val) = (\n",
        "    (x_train[:40000], y_train[:40000]),\n",
        "    (x_train[40000:], y_train[40000:]),\n",
        ")\n",
        "print(f\"Training samples: {len(x_train)}\")\n",
        "print(f\"Validation samples: {len(x_val)}\")\n",
        "print(f\"Testing samples: {len(x_test)}\")"
      ],
      "execution_count": null,
      "outputs": []
    },
    {
      "cell_type": "code",
      "metadata": {
        "id": "sH3ihMqv_Zvn"
      },
      "source": [
        "train_ds = tf.data.Dataset.from_tensor_slices((x_train))\n",
        "train_ds = train_ds.shuffle(BUFFER_SIZE).batch(BATCH_SIZE).prefetch(AUTO)\n",
        "\n",
        "val_ds = tf.data.Dataset.from_tensor_slices((x_val))\n",
        "val_ds = val_ds.batch(BATCH_SIZE).prefetch(AUTO)\n",
        "\n",
        "test_ds = tf.data.Dataset.from_tensor_slices((x_test))\n",
        "test_ds = test_ds.batch(BATCH_SIZE).prefetch(AUTO)"
      ],
      "execution_count": null,
      "outputs": []
    },
    {
      "cell_type": "markdown",
      "metadata": {
        "id": "I3jSERWD_dxh"
      },
      "source": [
        "# Data Augmentation"
      ]
    },
    {
      "cell_type": "code",
      "metadata": {
        "id": "6E12LNFc_dm5"
      },
      "source": [
        "def get_aug_model(test=False):\n",
        "    inputs = keras.Input(INPUT_SHAPE)\n",
        "    x = layers.Normalization()(inputs)\n",
        "    if test:\n",
        "        x = layers.Resizing(IMAGE_SIZE, IMAGE_SIZE)(x)\n",
        "        model = keras.Model(inputs, x)\n",
        "\n",
        "    else:\n",
        "        x = layers.Resizing(IMAGE_SIZE+30, IMAGE_SIZE+30)(x)\n",
        "        x = layers.RandomCrop(IMAGE_SIZE, IMAGE_SIZE)(x)\n",
        "        x = layers.RandomFlip(\"horizontal\")(x)\n",
        "        model = keras.Model(inputs, x)\n",
        "\n",
        "    model.layers[1].adapt(x_train)\n",
        "    return model"
      ],
      "execution_count": null,
      "outputs": []
    },
    {
      "cell_type": "markdown",
      "metadata": {
        "id": "dynDm4z6AK-q"
      },
      "source": [
        "# Create Patches"
      ]
    },
    {
      "cell_type": "code",
      "metadata": {
        "id": "dAiN1D-5AMGg"
      },
      "source": [
        "class Patches(layers.Layer):\n",
        "    def __init__(self, patch_size=PATCH_SIZE, **kwargs):\n",
        "        super().__init__(**kwargs)\n",
        "        self.patch_size = patch_size\n",
        "\n",
        "        # Assuming the image has three channels each patch would be\n",
        "        # of size (patch_size, patch_size, 3).\n",
        "        self.resize = layers.Reshape((-1, patch_size * patch_size * 3))\n",
        "\n",
        "    def call(self, images):\n",
        "        # Create patches from the input images\n",
        "        patches = tf.image.extract_patches(\n",
        "            images=images,\n",
        "            sizes=[1, self.patch_size, self.patch_size, 1],\n",
        "            strides=[1, self.patch_size, self.patch_size, 1],\n",
        "            rates=[1, 1, 1, 1],\n",
        "            padding=\"VALID\",\n",
        "        )\n",
        "\n",
        "        # Reshape the patches to (batch, num_patches, patch_area) and return it.\n",
        "        patches = self.resize(patches)\n",
        "        return patches\n",
        "\n",
        "    def show_patched_image(self, images, patches):\n",
        "        # This is a utility function which accepts a batch of images and its\n",
        "        # corresponding patches and help visualize one image and its patches\n",
        "        # side by side.\n",
        "        idx = np.random.choice(patches.shape[0])\n",
        "        print(f\"Index selected: {idx}.\")\n",
        "\n",
        "        plt.figure(figsize=(4, 4))\n",
        "        plt.imshow(keras.utils.array_to_img(images[idx]))\n",
        "        plt.axis(\"off\")\n",
        "        plt.show()\n",
        "\n",
        "        n = int(np.sqrt(patches.shape[1]))\n",
        "        plt.figure(figsize=(4, 4))\n",
        "        for i, patch in enumerate(patches[idx]):\n",
        "            ax = plt.subplot(n, n, i + 1)\n",
        "            patch_img = tf.reshape(patch, (self.patch_size, self.patch_size, 3))\n",
        "            plt.imshow(keras.utils.img_to_array(patch_img))\n",
        "            plt.axis(\"off\")\n",
        "        plt.show()\n",
        "\n",
        "        # Return the index chosen to validate it outside the method.\n",
        "        return idx\n",
        "\n",
        "    # taken from https://stackoverflow.com/a/58082878/10319735\n",
        "    def reconstruct_from_patch(self, patch):\n",
        "        # This utility function takes patches from a *single* image and\n",
        "        # reconstructs it back into the image. This is useful for the train\n",
        "        # monitor callback.\n",
        "        num_patches = patch.shape[0]\n",
        "        n = int(np.sqrt(num_patches))\n",
        "        patch = tf.reshape(patch, (num_patches, self.patch_size, self.patch_size, 3))\n",
        "        rows = tf.split(patch, n, axis=0)\n",
        "        rows = [tf.concat(tf.unstack(x), axis=1) for x in rows]\n",
        "        reconstructed = tf.concat(rows, axis=0)\n",
        "        return reconstructed"
      ],
      "execution_count": null,
      "outputs": []
    },
    {
      "cell_type": "code",
      "metadata": {
        "id": "ptI3I2aMB_rS"
      },
      "source": [
        "# Get a batch of images.\n",
        "image_batch = next(iter(train_ds))\n",
        "\n",
        "# Augment the images.\n",
        "augmentation_model = get_aug_model()\n",
        "augmeneted_images = augmentation_model(image_batch)\n",
        "\n",
        "# Define the patch layer.\n",
        "patch_layer = Patches()\n",
        "\n",
        "# Get the patches from the batched images.\n",
        "patches = patch_layer(images=augmeneted_images)\n",
        "\n",
        "# Now pass the images and the corresponding patches\n",
        "# to the `show_patched_image` method.\n",
        "random_index = patch_layer.show_patched_image(images=augmeneted_images, patches=patches)"
      ],
      "execution_count": null,
      "outputs": []
    },
    {
      "cell_type": "code",
      "metadata": {
        "id": "qv0Va_68CPmF"
      },
      "source": [
        "# Chose the same chose image and try reconstructing the patches\n",
        "# into the original image.\n",
        "image = patch_layer.reconstruct_from_patch(patches[random_index])\n",
        "plt.imshow(image)\n",
        "plt.axis(\"off\")\n",
        "plt.show()"
      ],
      "execution_count": null,
      "outputs": []
    },
    {
      "cell_type": "markdown",
      "metadata": {
        "id": "8GYmyvRZCbL4"
      },
      "source": [
        "# Patch Encoder"
      ]
    },
    {
      "cell_type": "code",
      "metadata": {
        "id": "39WbLUN6CaU9"
      },
      "source": [
        "class PatchEncoder(layers.Layer):\n",
        "    def __init__(\n",
        "        self,\n",
        "        patch_size=PATCH_SIZE,\n",
        "        projection_dim=ENC_PROJECTION_DIM,\n",
        "        mask_proportion=MASK_PROPORTION,\n",
        "        downstream=False,\n",
        "        **kwargs,\n",
        "    ):\n",
        "        super().__init__(**kwargs)\n",
        "        self.patch_size = patch_size\n",
        "        self.projection_dim = projection_dim\n",
        "        self.mask_proportion = mask_proportion\n",
        "        self.downstream = downstream\n",
        "\n",
        "        # This is a trainable mask token initialized randomly from a normal\n",
        "        # distribution.\n",
        "        self.mask_token = tf.Variable(\n",
        "            tf.random.normal([1, patch_size * patch_size * 3]), trainable=True\n",
        "        )\n",
        "\n",
        "    def build(self, input_shape):\n",
        "        (_, self.num_patches, self.patch_area) = input_shape\n",
        "\n",
        "        # Create the projection layer for the patches.\n",
        "        self.projection = layers.Dense(units=self.projection_dim)\n",
        "\n",
        "        # Create the positional embedding layer.\n",
        "        self.position_embedding = layers.Embedding(\n",
        "            input_dim=self.num_patches, output_dim=self.projection_dim\n",
        "        )\n",
        "\n",
        "        # Number of patches that will be masked.\n",
        "        self.num_mask = int(self.mask_proportion * self.num_patches)\n",
        "\n",
        "    def call(self, patches):\n",
        "        # Get the positional embeddings.\n",
        "        batch_size = tf.shape(patches)[0]\n",
        "        positions = tf.range(start=0, limit=self.num_patches, delta=1)\n",
        "        pos_embeddings = self.position_embedding(positions[tf.newaxis, ...])\n",
        "        pos_embeddings = tf.tile(\n",
        "            pos_embeddings, [batch_size, 1, 1]\n",
        "        )  # (B, num_patches, projection_dim)\n",
        "\n",
        "        # Embed the patches.\n",
        "        patch_embeddings = (\n",
        "            self.projection(patches) + pos_embeddings\n",
        "        )  # (B, num_patches, projection_dim)\n",
        "\n",
        "        if self.downstream:\n",
        "            return patch_embeddings\n",
        "        else:\n",
        "            mask_indices, unmask_indices = self.get_random_indices(batch_size)\n",
        "            # The encoder input is the unmasked patch embeddings. Here we gather\n",
        "            # all the patches that should be unmasked.\n",
        "            unmasked_embeddings = tf.gather(\n",
        "                patch_embeddings, unmask_indices, axis=1, batch_dims=1\n",
        "            )  # (B, unmask_numbers, projection_dim)\n",
        "\n",
        "            # Get the unmasked and masked position embeddings. We will need them\n",
        "            # for the decoder.\n",
        "            unmasked_positions = tf.gather(\n",
        "                pos_embeddings, unmask_indices, axis=1, batch_dims=1\n",
        "            )  # (B, unmask_numbers, projection_dim)\n",
        "            masked_positions = tf.gather(\n",
        "                pos_embeddings, mask_indices, axis=1, batch_dims=1\n",
        "            )  # (B, mask_numbers, projection_dim)\n",
        "\n",
        "            # Repeat the mask token number of mask times.\n",
        "            # Mask tokens replace the masks of the image.\n",
        "            mask_tokens = tf.repeat(self.mask_token, repeats=self.num_mask, axis=0)\n",
        "            mask_tokens = tf.repeat(\n",
        "                mask_tokens[tf.newaxis, ...], repeats=batch_size, axis=0\n",
        "            )\n",
        "\n",
        "            # Get the masked embeddings for the tokens.\n",
        "            masked_embeddings = self.projection(mask_tokens) + masked_positions\n",
        "            return (\n",
        "                unmasked_embeddings, # input to the encoder\n",
        "                masked_embeddings, # first part of input to the decoder\n",
        "                unmasked_positions, # added to the encoder outputs\n",
        "                mask_indices, # the indices that were masked\n",
        "                unmask_indices # the indices that were unmaksed\n",
        "            )\n",
        "\n",
        "    def get_random_indices(self, batch_size):\n",
        "        # Create random indices from a uniform distribution and then split\n",
        "        # it into mask and unmask indices.\n",
        "        rand_indices = tf.argsort(\n",
        "            tf.random.uniform(shape=(batch_size, self.num_patches)), axis=-1\n",
        "        )\n",
        "        mask_indices = rand_indices[:, : self.num_mask]\n",
        "        unmask_indices = rand_indices[:, self.num_mask :]\n",
        "\n",
        "        return mask_indices, unmask_indices\n",
        "\n",
        "    def show_masked_image(self, patches, unmask_indices):\n",
        "        # choose a random patch and it corresponding unmask index\n",
        "        idx = np.random.choice(patches.shape[0])\n",
        "        patch = patches[idx]\n",
        "        unmask_index = unmask_indices[idx]\n",
        "\n",
        "        # build a numpy array of same shape as pathc\n",
        "        new_patch = np.zeros_like(patch)\n",
        "\n",
        "        # iterate of the new_patch and plug the unmasked patches\n",
        "        count = 0\n",
        "        for i in range(unmask_index.shape[0]):\n",
        "            new_patch[unmask_index[i]] = patch[unmask_index[i]]\n",
        "        return new_patch, idx"
      ],
      "execution_count": null,
      "outputs": []
    },
    {
      "cell_type": "code",
      "metadata": {
        "id": "PvEhNFDcFCLF"
      },
      "source": [
        "# Create the patch encoder layer.\n",
        "patch_encoder = PatchEncoder()\n",
        "\n",
        "# Get the embeddings and positions.\n",
        "(\n",
        "    unmasked_embeddings,\n",
        "    masked_embeddings,\n",
        "    unmasked_positions,\n",
        "    mask_indices,\n",
        "    unmask_indices,\n",
        ") = patch_encoder(patches=patches)"
      ],
      "execution_count": null,
      "outputs": []
    },
    {
      "cell_type": "code",
      "metadata": {
        "id": "UlxangzdFwMJ"
      },
      "source": [
        "# Show a maksed patch image.\n",
        "new_patch, random_index = patch_encoder.show_masked_image(patches, unmask_indices)\n",
        "\n",
        "plt.figure(figsize=(10, 10))\n",
        "plt.subplot(1, 2, 1)\n",
        "img = patch_layer.reconstruct_from_patch(new_patch)\n",
        "plt.imshow(keras.utils.array_to_img(img))\n",
        "plt.axis(\"off\")\n",
        "plt.title(\"Masked\")\n",
        "plt.subplot(1, 2, 2)\n",
        "img = augmeneted_images[random_index]\n",
        "plt.imshow(keras.utils.array_to_img(img))\n",
        "plt.axis(\"off\")\n",
        "plt.title(\"Original\")\n",
        "plt.show()"
      ],
      "execution_count": null,
      "outputs": []
    },
    {
      "cell_type": "markdown",
      "metadata": {
        "id": "A88s55FzF9Rz"
      },
      "source": [
        "# MLP"
      ]
    },
    {
      "cell_type": "code",
      "metadata": {
        "id": "91-B5HvSF52o"
      },
      "source": [
        "def mlp(x, dropout_rate, hidden_units):\n",
        "    for units in hidden_units:\n",
        "        x = layers.Dense(units, activation=tf.nn.gelu)(x)\n",
        "        x = layers.Dropout(dropout_rate)(x)\n",
        "    return x"
      ],
      "execution_count": null,
      "outputs": []
    },
    {
      "cell_type": "markdown",
      "metadata": {
        "id": "A_CHs2O1GA8X"
      },
      "source": [
        "# Encoder"
      ]
    },
    {
      "cell_type": "code",
      "metadata": {
        "id": "56BDy60iGB4N"
      },
      "source": [
        "def create_encoder(num_heads=ENC_NUM_HEADS, num_layers=ENC_LAYERS):\n",
        "    inputs = layers.Input((None, ENC_PROJECTION_DIM))\n",
        "    x = inputs\n",
        "\n",
        "    for _ in range(num_layers):\n",
        "        # Layer normalization 1.\n",
        "        x1 = layers.LayerNormalization(epsilon=LAYER_NORM_EPS)(x)\n",
        "\n",
        "        # Create a multi-head attention layer.\n",
        "        attention_output = layers.MultiHeadAttention(\n",
        "            num_heads=num_heads, key_dim=ENC_PROJECTION_DIM, dropout=0.1\n",
        "        )(x1, x1)\n",
        "\n",
        "        # Skip connection 1.\n",
        "        x2 = layers.Add()([attention_output, x])\n",
        "\n",
        "        # Layer normalization 2.\n",
        "        x3 = layers.LayerNormalization(epsilon=LAYER_NORM_EPS)(x2)\n",
        "\n",
        "        # MLP.\n",
        "        x3 = mlp(x3, hidden_units=ENC_TRANSFORMER_UNITS, dropout_rate=0.1)\n",
        "\n",
        "        # Skip connection 2.\n",
        "        x = layers.Add()([x3, x2])\n",
        "\n",
        "    outputs = layers.LayerNormalization(epsilon=LAYER_NORM_EPS)(x)\n",
        "    return keras.Model(inputs, outputs, name=\"mae_encoder\")"
      ],
      "execution_count": null,
      "outputs": []
    },
    {
      "cell_type": "markdown",
      "metadata": {
        "id": "i-r40qxxGOnF"
      },
      "source": [
        "# Decoder"
      ]
    },
    {
      "cell_type": "code",
      "metadata": {
        "id": "u4t3AnQ1GN8i"
      },
      "source": [
        "def create_decoder(\n",
        "    num_layers=DEC_LAYERS, num_heads=DEC_NUM_HEADS, image_size=IMAGE_SIZE\n",
        "):\n",
        "    inputs = layers.Input((NUM_PATCHES, ENC_PROJECTION_DIM))\n",
        "    x = layers.Dense(DEC_PROJECTION_DIM)(inputs)\n",
        "\n",
        "    for _ in range(num_layers):\n",
        "        # Layer normalization 1.\n",
        "        x1 = layers.LayerNormalization(epsilon=LAYER_NORM_EPS)(x)\n",
        "\n",
        "        # Create a multi-head attention layer.\n",
        "        attention_output = layers.MultiHeadAttention(\n",
        "            num_heads=num_heads, key_dim=DEC_PROJECTION_DIM, dropout=0.1\n",
        "        )(x1, x1)\n",
        "\n",
        "        # Skip connection 1.\n",
        "        x2 = layers.Add()([attention_output, x])\n",
        "\n",
        "        # Layer normalization 2.\n",
        "        x3 = layers.LayerNormalization(epsilon=LAYER_NORM_EPS)(x2)\n",
        "\n",
        "        # MLP.\n",
        "        x3 = mlp(x3, hidden_units=DEC_TRANSFORMER_UNITS, dropout_rate=0.1)\n",
        "\n",
        "        # Skip connection 2.\n",
        "        x = layers.Add()([x3, x2])\n",
        "\n",
        "    x = layers.LayerNormalization(epsilon=LAYER_NORM_EPS)(x)\n",
        "    x = layers.Flatten()(x)\n",
        "    pre_final = layers.Dense(units=image_size * image_size * 3)(x)\n",
        "    outputs = layers.Reshape((image_size, image_size, 3))(pre_final)\n",
        "\n",
        "    return keras.Model(inputs, outputs, name=\"mae_decoder\")"
      ],
      "execution_count": null,
      "outputs": []
    },
    {
      "cell_type": "markdown",
      "metadata": {
        "id": "KQ1LwTdlGcuU"
      },
      "source": [
        "# MAE"
      ]
    },
    {
      "cell_type": "code",
      "metadata": {
        "id": "7-V6L61yGbg6"
      },
      "source": [
        "class MaskedAutoencoder(keras.Model):\n",
        "    def __init__(\n",
        "        self,\n",
        "        train_augmentation_model,\n",
        "        test_augmentation_model,\n",
        "        patch_layer,\n",
        "        patch_encoder,\n",
        "        encoder,\n",
        "        decoder,\n",
        "        **kwargs\n",
        "    ):\n",
        "        super().__init__(**kwargs)\n",
        "        self.train_augmentation_model = train_augmentation_model\n",
        "        self.test_augmentation_model = test_augmentation_model\n",
        "        self.patch_layer = patch_layer\n",
        "        self.patch_encoder = patch_encoder\n",
        "        self.encoder = encoder\n",
        "        self.decoder = decoder\n",
        "\n",
        "    def calculate_loss(self, images, test=False):\n",
        "        # Augment the input images.\n",
        "        if test:\n",
        "            augmeneted_images = self.test_augmentation_model(images)\n",
        "        else:\n",
        "            augmeneted_images = self.train_augmentation_model(images)\n",
        "\n",
        "        # Patch the augmented images.\n",
        "        patches = self.patch_layer(augmeneted_images)\n",
        "\n",
        "        # Encode the patches.\n",
        "        (\n",
        "            unmasked_embeddings,\n",
        "            masked_embeddings,\n",
        "            unmasked_positions,\n",
        "            mask_indices,\n",
        "            unmask_indices,\n",
        "        ) = self.patch_encoder(patches)\n",
        "\n",
        "        # Pass the unmaksed patche to the encoder.\n",
        "        encoder_outputs = self.encoder(unmasked_embeddings)\n",
        "\n",
        "        # Create the decoder inputs.\n",
        "        encoder_outputs = encoder_outputs + unmasked_positions\n",
        "        decoder_inputs = tf.concat([encoder_outputs, masked_embeddings], axis=1)\n",
        "\n",
        "        # Decode the inputs.\n",
        "        decoder_outputs = self.decoder(decoder_inputs)\n",
        "        decoder_patches = self.patch_layer(decoder_outputs)\n",
        "\n",
        "        loss_patch = tf.gather(patches, mask_indices, axis=1, batch_dims=1)\n",
        "        loss_output = tf.gather(decoder_patches, mask_indices, axis=1, batch_dims=1)\n",
        "\n",
        "        # Compute the total loss.\n",
        "        total_loss = self.compiled_loss(loss_patch, loss_output)\n",
        "\n",
        "        return total_loss, loss_patch, loss_output\n",
        "\n",
        "    def train_step(self, images):\n",
        "        with tf.GradientTape() as tape:\n",
        "            total_loss, loss_patch, loss_output = self.calculate_loss(images)\n",
        "\n",
        "        # Apply gradients.\n",
        "        train_vars = [\n",
        "            self.train_augmentation_model.trainable_variables,\n",
        "            self.patch_layer.trainable_variables,\n",
        "            self.patch_encoder.trainable_variables,\n",
        "            self.encoder.trainable_variables,\n",
        "            self.decoder.trainable_variables,\n",
        "        ]\n",
        "        grads = tape.gradient(total_loss, train_vars)\n",
        "        tv_list = []\n",
        "        for (grad, var) in zip(grads, train_vars):\n",
        "            for g, v in zip(grad, var):\n",
        "                tv_list.append((g, v))\n",
        "        self.optimizer.apply_gradients(tv_list)\n",
        "\n",
        "        # Report progress.\n",
        "        self.compiled_metrics.update_state(loss_patch, loss_output)\n",
        "        return {m.name: m.result() for m in self.metrics}\n",
        "\n",
        "    def test_step(self, images):\n",
        "        total_loss, loss_patch, loss_output = self.calculate_loss(images, test=True)\n",
        "\n",
        "        # Update the trackers.\n",
        "        self.compiled_metrics.update_state(loss_patch, loss_output)\n",
        "        return {m.name: m.result() for m in self.metrics}"
      ],
      "execution_count": null,
      "outputs": []
    },
    {
      "cell_type": "code",
      "metadata": {
        "id": "2LqZWL1eHS8l"
      },
      "source": [
        "keras.backend.clear_session()\n",
        "\n",
        "train_augmentation_model = get_aug_model()\n",
        "test_augmentation_model = get_aug_model(test=True)\n",
        "patch_layer = Patches()\n",
        "patch_encoder = PatchEncoder()\n",
        "encoder = create_encoder()\n",
        "decoder = create_decoder()\n",
        "\n",
        "mae_model = MaskedAutoencoder(\n",
        "    train_augmentation_model=train_augmentation_model,\n",
        "    test_augmentation_model=test_augmentation_model,\n",
        "    patch_layer=patch_layer,\n",
        "    patch_encoder=patch_encoder,\n",
        "    encoder=encoder,\n",
        "    decoder=decoder,\n",
        ")"
      ],
      "execution_count": null,
      "outputs": []
    },
    {
      "cell_type": "code",
      "metadata": {
        "id": "QjuUx4OYHaQx"
      },
      "source": [
        "# Taking a batch of test inputs to measure model's progress.\n",
        "test_images = next(iter(test_ds))\n",
        "\n",
        "class TrainMonitor(tf.keras.callbacks.Callback):\n",
        "    def __init__(self, epoch_interval=None):\n",
        "        self.epoch_interval = epoch_interval\n",
        "\n",
        "    def on_epoch_end(self, epoch, logs=None):\n",
        "        if self.epoch_interval and epoch % self.epoch_interval == 0:\n",
        "            test_augmeneted_images = self.model.test_augmentation_model(test_images)\n",
        "            test_patches = self.model.patch_layer(test_augmeneted_images)\n",
        "            (\n",
        "                test_unmasked_embeddings,\n",
        "                test_masked_embeddings,\n",
        "                test_unmasked_positions,\n",
        "                test_mask_indices,\n",
        "                test_unmask_indices,\n",
        "            ) = self.model.patch_encoder(test_patches)\n",
        "            test_encoder_outputs = self.model.encoder(test_unmasked_embeddings)\n",
        "            test_encoder_outputs = test_encoder_outputs + test_unmasked_positions\n",
        "            test_decoder_inputs = tf.concat(\n",
        "                [test_encoder_outputs, test_masked_embeddings], axis=1\n",
        "            )\n",
        "            test_decoder_outputs = self.model.decoder(test_decoder_inputs)\n",
        "\n",
        "            # Show a maksed patch image.\n",
        "            test_masked_patch, idx = self.model.patch_encoder.show_masked_image(test_patches, test_unmask_indices)\n",
        "            print(f\"\\nIdx chosen: {idx}\")\n",
        "            original_image = test_augmeneted_images[idx]\n",
        "            masked_image = self.model.patch_layer.reconstruct_from_patch(test_masked_patch)\n",
        "            reconstructed_image = test_decoder_outputs[idx]\n",
        "\n",
        "            fig, ax = plt.subplots(nrows=1, ncols=3, figsize=(15, 5))\n",
        "            ax[0].imshow(original_image)\n",
        "            ax[0].set_title(f\"Original: {epoch:03d}\")\n",
        "\n",
        "            ax[1].imshow(masked_image)\n",
        "            ax[1].set_title(f\"Masked: {epoch:03d}\")\n",
        "\n",
        "            ax[2].imshow(reconstructed_image)\n",
        "            ax[2].set_title(f\"Resonstructed: {epoch:03d}\")\n",
        "\n",
        "            plt.show()\n",
        "            plt.close()"
      ],
      "execution_count": null,
      "outputs": []
    },
    {
      "cell_type": "code",
      "metadata": {
        "id": "l_heFaYxJaOp"
      },
      "source": [
        "timestamp = datetime.utcnow().strftime(\"%y%m%d-%H%M%S\")\n",
        "\n",
        "train_callbacks = [\n",
        "    keras.callbacks.ReduceLROnPlateau(\n",
        "        monitor=\"val_mae\", factor=0.5, patience=3, verbose=1\n",
        "    ),\n",
        "    keras.callbacks.TensorBoard(log_dir=f\"mae_logs_{timestamp}\"),\n",
        "    TrainMonitor(epoch_interval=5),\n",
        "]"
      ],
      "execution_count": null,
      "outputs": []
    },
    {
      "cell_type": "code",
      "metadata": {
        "id": "gtgH-OxyJczw"
      },
      "source": [
        "optimizer = tfa.optimizers.AdamW(\n",
        "    learning_rate=LEARNING_RATE,\n",
        "    weight_decay=WEIGHT_DECAY\n",
        ")\n",
        "\n",
        "mae_model.compile(\n",
        "    optimizer=optimizer,\n",
        "    loss=keras.losses.MeanSquaredError(),\n",
        "    metrics=[\"mae\"]\n",
        ")"
      ],
      "execution_count": null,
      "outputs": []
    },
    {
      "cell_type": "code",
      "metadata": {
        "id": "ZUAXzpDoJiXG"
      },
      "source": [
        "history = mae_model.fit(\n",
        "    train_ds,\n",
        "    epochs=EPOCHS,\n",
        "    validation_data=val_ds,\n",
        "    callbacks=train_callbacks,\n",
        ")"
      ],
      "execution_count": null,
      "outputs": []
    },
    {
      "cell_type": "code",
      "metadata": {
        "id": "S0aVUm63Lj-L"
      },
      "source": [
        "loss, mae = mae_model.evaluate(test_ds)\n",
        "print(f\"Loss: {loss:.2f}\")\n",
        "print(f\"MAE: {mae:.2f}\")"
      ],
      "execution_count": null,
      "outputs": []
    },
    {
      "cell_type": "markdown",
      "metadata": {
        "id": "u8mJ1QkHLoPd"
      },
      "source": [
        "# Downstrean Task"
      ]
    },
    {
      "cell_type": "code",
      "metadata": {
        "id": "kXnO5jNALndF"
      },
      "source": [
        "# Extract the augmentation layers.\n",
        "train_augmentation_model = mae_model.train_augmentation_model\n",
        "test_augmentation_model = mae_model.test_augmentation_model\n",
        "\n",
        "# Extract the patchers.\n",
        "patch_layer = mae_model.patch_layer\n",
        "patch_encoder = mae_model.patch_encoder\n",
        "patch_encoder.downstream = True  # Swtich the downstream flag to True.\n",
        "\n",
        "# Extract the encoder.\n",
        "encoder = mae_model.encoder\n",
        "\n",
        "# Pack as a model.\n",
        "downstream_model = keras.Sequential(\n",
        "    [\n",
        "        layers.Input((IMAGE_SIZE, IMAGE_SIZE, 3)),\n",
        "        patch_layer,\n",
        "        patch_encoder,\n",
        "        encoder,\n",
        "        layers.BatchNormalization(),  # Refer to A.1 (Linear probing)\n",
        "        layers.GlobalAveragePooling1D(),\n",
        "        layers.Dense(NUM_CLASSES, activation=\"softmax\"),\n",
        "    ], name=\"linear_probe_model\"\n",
        ")\n",
        "\n",
        "# Only the final classification layer of the `downstream_model` should be trainable.\n",
        "for layer in downstream_model.layers[:-1]:\n",
        "    layer.trainable = False\n",
        "\n",
        "downstream_model.summary()"
      ],
      "execution_count": null,
      "outputs": []
    },
    {
      "cell_type": "code",
      "metadata": {
        "id": "oPaNGdfvLtyR"
      },
      "source": [
        "def prepare_data(images, labels, is_train=True):\n",
        "    if is_train:\n",
        "        augmentation_model = train_augmentation_model\n",
        "    else:\n",
        "        augmentation_model = test_augmentation_model\n",
        "\n",
        "    dataset = tf.data.Dataset.from_tensor_slices((images, labels))\n",
        "    if is_train:\n",
        "        dataset = dataset.shuffle(BUFFER_SIZE)\n",
        "\n",
        "    dataset = dataset.batch(BATCH_SIZE).map(\n",
        "        lambda x, y: (augmentation_model(x), y), num_parallel_calls=AUTO\n",
        "    )\n",
        "    return dataset.prefetch(AUTO)\n",
        "\n",
        "\n",
        "train_ds = prepare_data(x_train, y_train)\n",
        "val_ds = prepare_data(x_train, y_train, is_train=False)\n",
        "test_ds = prepare_data(x_test, y_test, is_train=False)"
      ],
      "execution_count": null,
      "outputs": []
    },
    {
      "cell_type": "code",
      "metadata": {
        "id": "xdeuZ98oLvis"
      },
      "source": [
        "linear_probe_epochs = 50\n",
        "steps = int((len(x_train) // BATCH_SIZE) * linear_probe_epochs)\n",
        "scheduled_lrs = keras.optimizers.schedules.CosineDecay(\n",
        "    initial_learning_rate=0.1, decay_steps=steps\n",
        ")\n",
        "\n",
        "optimizer = keras.optimizers.SGD(learning_rate=scheduled_lrs, momentum=0.9)\n",
        "downstream_model.compile(\n",
        "    optimizer=optimizer, loss=\"sparse_categorical_crossentropy\", metrics=[\"accuracy\"]\n",
        ")\n",
        "downstream_model.fit(train_ds, validation_data=val_ds, epochs=linear_probe_epochs)\n",
        "\n",
        "loss, accuracy = downstream_model.evaluate(test_ds)\n",
        "accuracy = round(accuracy * 100, 2)\n",
        "print(f\"Accuracy on the test set: {accuracy}%.\")"
      ],
      "execution_count": null,
      "outputs": []
    },
    {
      "cell_type": "code",
      "metadata": {
        "id": "0o8DHVfAMrSL"
      },
      "source": [
        "downstream_model.save(f\"linear_probe_{timestamp}\")"
      ],
      "execution_count": null,
      "outputs": []
    }
  ]
}