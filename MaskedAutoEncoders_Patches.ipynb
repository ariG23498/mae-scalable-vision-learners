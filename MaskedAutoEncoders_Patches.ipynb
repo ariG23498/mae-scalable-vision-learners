{
  "nbformat": 4,
  "nbformat_minor": 0,
  "metadata": {
    "colab": {
      "name": "MaskedAutoEncoders-Concise-Decoder-Patches.ipynb",
      "provenance": [],
      "collapsed_sections": [],
      "machine_shape": "hm",
      "authorship_tag": "ABX9TyPKGXkC/sR4hqzjBpYVzQaj"
    },
    "kernelspec": {
      "name": "python3",
      "display_name": "Python 3"
    },
    "language_info": {
      "name": "python"
    },
    "accelerator": "GPU"
  },
  "cells": [
    {
      "cell_type": "markdown",
      "metadata": {
        "id": "gq8N_kV5J-je"
      },
      "source": [
        "# Masked Autoencoders Are Scalable Vision Learners\n",
        "\n",
        "This notebook is a TF2 implementation of [Masked Autoencoders Are Scalable Vision Learners](https://arxiv.org/abs/2111.06377) by He et. al.\n",
        "\n",
        "The notebook uses the following resources as references:\n",
        "\n",
        "- https://keras.io/examples/vision/image_classification_with_vision_transformer/"
      ]
    },
    {
      "cell_type": "markdown",
      "metadata": {
        "id": "7R1xBElz3PDk"
      },
      "source": [
        "# Imports & Setup"
      ]
    },
    {
      "cell_type": "code",
      "metadata": {
        "id": "PFy49HtxKz3r",
        "colab": {
          "base_uri": "https://localhost:8080/"
        },
        "outputId": "f485e5a8-27c6-4b7a-d936-69b2f21f65e2"
      },
      "source": [
        "! pip install -q tensorflow-addons"
      ],
      "execution_count": 1,
      "outputs": [
        {
          "output_type": "stream",
          "name": "stdout",
          "text": [
            "\u001b[?25l\r\u001b[K     |▎                               | 10 kB 27.6 MB/s eta 0:00:01\r\u001b[K     |▋                               | 20 kB 22.0 MB/s eta 0:00:01\r\u001b[K     |▉                               | 30 kB 11.3 MB/s eta 0:00:01\r\u001b[K     |█▏                              | 40 kB 8.6 MB/s eta 0:00:01\r\u001b[K     |█▌                              | 51 kB 5.1 MB/s eta 0:00:01\r\u001b[K     |█▊                              | 61 kB 5.6 MB/s eta 0:00:01\r\u001b[K     |██                              | 71 kB 5.4 MB/s eta 0:00:01\r\u001b[K     |██▍                             | 81 kB 6.1 MB/s eta 0:00:01\r\u001b[K     |██▋                             | 92 kB 4.7 MB/s eta 0:00:01\r\u001b[K     |███                             | 102 kB 5.0 MB/s eta 0:00:01\r\u001b[K     |███▎                            | 112 kB 5.0 MB/s eta 0:00:01\r\u001b[K     |███▌                            | 122 kB 5.0 MB/s eta 0:00:01\r\u001b[K     |███▉                            | 133 kB 5.0 MB/s eta 0:00:01\r\u001b[K     |████▏                           | 143 kB 5.0 MB/s eta 0:00:01\r\u001b[K     |████▍                           | 153 kB 5.0 MB/s eta 0:00:01\r\u001b[K     |████▊                           | 163 kB 5.0 MB/s eta 0:00:01\r\u001b[K     |█████                           | 174 kB 5.0 MB/s eta 0:00:01\r\u001b[K     |█████▎                          | 184 kB 5.0 MB/s eta 0:00:01\r\u001b[K     |█████▋                          | 194 kB 5.0 MB/s eta 0:00:01\r\u001b[K     |█████▉                          | 204 kB 5.0 MB/s eta 0:00:01\r\u001b[K     |██████▏                         | 215 kB 5.0 MB/s eta 0:00:01\r\u001b[K     |██████▌                         | 225 kB 5.0 MB/s eta 0:00:01\r\u001b[K     |██████▊                         | 235 kB 5.0 MB/s eta 0:00:01\r\u001b[K     |███████                         | 245 kB 5.0 MB/s eta 0:00:01\r\u001b[K     |███████▍                        | 256 kB 5.0 MB/s eta 0:00:01\r\u001b[K     |███████▋                        | 266 kB 5.0 MB/s eta 0:00:01\r\u001b[K     |████████                        | 276 kB 5.0 MB/s eta 0:00:01\r\u001b[K     |████████▎                       | 286 kB 5.0 MB/s eta 0:00:01\r\u001b[K     |████████▌                       | 296 kB 5.0 MB/s eta 0:00:01\r\u001b[K     |████████▉                       | 307 kB 5.0 MB/s eta 0:00:01\r\u001b[K     |█████████                       | 317 kB 5.0 MB/s eta 0:00:01\r\u001b[K     |█████████▍                      | 327 kB 5.0 MB/s eta 0:00:01\r\u001b[K     |█████████▊                      | 337 kB 5.0 MB/s eta 0:00:01\r\u001b[K     |██████████                      | 348 kB 5.0 MB/s eta 0:00:01\r\u001b[K     |██████████▎                     | 358 kB 5.0 MB/s eta 0:00:01\r\u001b[K     |██████████▋                     | 368 kB 5.0 MB/s eta 0:00:01\r\u001b[K     |██████████▉                     | 378 kB 5.0 MB/s eta 0:00:01\r\u001b[K     |███████████▏                    | 389 kB 5.0 MB/s eta 0:00:01\r\u001b[K     |███████████▌                    | 399 kB 5.0 MB/s eta 0:00:01\r\u001b[K     |███████████▊                    | 409 kB 5.0 MB/s eta 0:00:01\r\u001b[K     |████████████                    | 419 kB 5.0 MB/s eta 0:00:01\r\u001b[K     |████████████▍                   | 430 kB 5.0 MB/s eta 0:00:01\r\u001b[K     |████████████▋                   | 440 kB 5.0 MB/s eta 0:00:01\r\u001b[K     |█████████████                   | 450 kB 5.0 MB/s eta 0:00:01\r\u001b[K     |█████████████▎                  | 460 kB 5.0 MB/s eta 0:00:01\r\u001b[K     |█████████████▌                  | 471 kB 5.0 MB/s eta 0:00:01\r\u001b[K     |█████████████▉                  | 481 kB 5.0 MB/s eta 0:00:01\r\u001b[K     |██████████████                  | 491 kB 5.0 MB/s eta 0:00:01\r\u001b[K     |██████████████▍                 | 501 kB 5.0 MB/s eta 0:00:01\r\u001b[K     |██████████████▊                 | 512 kB 5.0 MB/s eta 0:00:01\r\u001b[K     |███████████████                 | 522 kB 5.0 MB/s eta 0:00:01\r\u001b[K     |███████████████▎                | 532 kB 5.0 MB/s eta 0:00:01\r\u001b[K     |███████████████▋                | 542 kB 5.0 MB/s eta 0:00:01\r\u001b[K     |███████████████▉                | 552 kB 5.0 MB/s eta 0:00:01\r\u001b[K     |████████████████▏               | 563 kB 5.0 MB/s eta 0:00:01\r\u001b[K     |████████████████▌               | 573 kB 5.0 MB/s eta 0:00:01\r\u001b[K     |████████████████▊               | 583 kB 5.0 MB/s eta 0:00:01\r\u001b[K     |█████████████████               | 593 kB 5.0 MB/s eta 0:00:01\r\u001b[K     |█████████████████▍              | 604 kB 5.0 MB/s eta 0:00:01\r\u001b[K     |█████████████████▋              | 614 kB 5.0 MB/s eta 0:00:01\r\u001b[K     |██████████████████              | 624 kB 5.0 MB/s eta 0:00:01\r\u001b[K     |██████████████████▏             | 634 kB 5.0 MB/s eta 0:00:01\r\u001b[K     |██████████████████▌             | 645 kB 5.0 MB/s eta 0:00:01\r\u001b[K     |██████████████████▉             | 655 kB 5.0 MB/s eta 0:00:01\r\u001b[K     |███████████████████             | 665 kB 5.0 MB/s eta 0:00:01\r\u001b[K     |███████████████████▍            | 675 kB 5.0 MB/s eta 0:00:01\r\u001b[K     |███████████████████▊            | 686 kB 5.0 MB/s eta 0:00:01\r\u001b[K     |████████████████████            | 696 kB 5.0 MB/s eta 0:00:01\r\u001b[K     |████████████████████▎           | 706 kB 5.0 MB/s eta 0:00:01\r\u001b[K     |████████████████████▋           | 716 kB 5.0 MB/s eta 0:00:01\r\u001b[K     |████████████████████▉           | 727 kB 5.0 MB/s eta 0:00:01\r\u001b[K     |█████████████████████▏          | 737 kB 5.0 MB/s eta 0:00:01\r\u001b[K     |█████████████████████▌          | 747 kB 5.0 MB/s eta 0:00:01\r\u001b[K     |█████████████████████▊          | 757 kB 5.0 MB/s eta 0:00:01\r\u001b[K     |██████████████████████          | 768 kB 5.0 MB/s eta 0:00:01\r\u001b[K     |██████████████████████▎         | 778 kB 5.0 MB/s eta 0:00:01\r\u001b[K     |██████████████████████▋         | 788 kB 5.0 MB/s eta 0:00:01\r\u001b[K     |███████████████████████         | 798 kB 5.0 MB/s eta 0:00:01\r\u001b[K     |███████████████████████▏        | 808 kB 5.0 MB/s eta 0:00:01\r\u001b[K     |███████████████████████▌        | 819 kB 5.0 MB/s eta 0:00:01\r\u001b[K     |███████████████████████▉        | 829 kB 5.0 MB/s eta 0:00:01\r\u001b[K     |████████████████████████        | 839 kB 5.0 MB/s eta 0:00:01\r\u001b[K     |████████████████████████▍       | 849 kB 5.0 MB/s eta 0:00:01\r\u001b[K     |████████████████████████▊       | 860 kB 5.0 MB/s eta 0:00:01\r\u001b[K     |█████████████████████████       | 870 kB 5.0 MB/s eta 0:00:01\r\u001b[K     |█████████████████████████▎      | 880 kB 5.0 MB/s eta 0:00:01\r\u001b[K     |█████████████████████████▋      | 890 kB 5.0 MB/s eta 0:00:01\r\u001b[K     |█████████████████████████▉      | 901 kB 5.0 MB/s eta 0:00:01\r\u001b[K     |██████████████████████████▏     | 911 kB 5.0 MB/s eta 0:00:01\r\u001b[K     |██████████████████████████▌     | 921 kB 5.0 MB/s eta 0:00:01\r\u001b[K     |██████████████████████████▊     | 931 kB 5.0 MB/s eta 0:00:01\r\u001b[K     |███████████████████████████     | 942 kB 5.0 MB/s eta 0:00:01\r\u001b[K     |███████████████████████████▎    | 952 kB 5.0 MB/s eta 0:00:01\r\u001b[K     |███████████████████████████▋    | 962 kB 5.0 MB/s eta 0:00:01\r\u001b[K     |████████████████████████████    | 972 kB 5.0 MB/s eta 0:00:01\r\u001b[K     |████████████████████████████▏   | 983 kB 5.0 MB/s eta 0:00:01\r\u001b[K     |████████████████████████████▌   | 993 kB 5.0 MB/s eta 0:00:01\r\u001b[K     |████████████████████████████▉   | 1.0 MB 5.0 MB/s eta 0:00:01\r\u001b[K     |█████████████████████████████   | 1.0 MB 5.0 MB/s eta 0:00:01\r\u001b[K     |█████████████████████████████▍  | 1.0 MB 5.0 MB/s eta 0:00:01\r\u001b[K     |█████████████████████████████▊  | 1.0 MB 5.0 MB/s eta 0:00:01\r\u001b[K     |██████████████████████████████  | 1.0 MB 5.0 MB/s eta 0:00:01\r\u001b[K     |██████████████████████████████▎ | 1.1 MB 5.0 MB/s eta 0:00:01\r\u001b[K     |██████████████████████████████▋ | 1.1 MB 5.0 MB/s eta 0:00:01\r\u001b[K     |██████████████████████████████▉ | 1.1 MB 5.0 MB/s eta 0:00:01\r\u001b[K     |███████████████████████████████▏| 1.1 MB 5.0 MB/s eta 0:00:01\r\u001b[K     |███████████████████████████████▍| 1.1 MB 5.0 MB/s eta 0:00:01\r\u001b[K     |███████████████████████████████▊| 1.1 MB 5.0 MB/s eta 0:00:01\r\u001b[K     |████████████████████████████████| 1.1 MB 5.0 MB/s \n",
            "\u001b[?25h"
          ]
        }
      ]
    },
    {
      "cell_type": "code",
      "metadata": {
        "id": "AUn7CggVEPer"
      },
      "source": [
        "from tensorflow.keras import layers\n",
        "import tensorflow_addons as tfa\n",
        "from tensorflow import keras\n",
        "import tensorflow as tf\n",
        "\n",
        "import matplotlib.pyplot as plt\n",
        "import numpy as np\n",
        "import random\n",
        "\n",
        "# Setting seeds for reproducibility.\n",
        "SEED = 42\n",
        "tf.random.set_seed(SEED)\n",
        "np.random.seed(SEED)\n",
        "random.seed(SEED)"
      ],
      "execution_count": 2,
      "outputs": []
    },
    {
      "cell_type": "code",
      "metadata": {
        "id": "8vtkCMZIMCcV"
      },
      "source": [
        "###### DATA\n",
        "BUFFER_SIZE = 1024\n",
        "BATCH_SIZE = 512\n",
        "AUTO = tf.data.AUTOTUNE\n",
        "INPUT_SHAPE = (32, 32, 3)\n",
        "NUM_CLASSES = 100\n",
        "\n",
        "# OPTIMIZER\n",
        "LEARNING_RATE = 1e-3\n",
        "WEIGHT_DECAY = 1e-4\n",
        "\n",
        "# TRAINING\n",
        "EPOCHS = 5\n",
        "\n",
        "# AUGMENTATION\n",
        "IMAGE_SIZE = 72  # We'll resize input images to this size\n",
        "PATCH_SIZE = 6  # Size of the patches to be extract from the input images\n",
        "NUM_PATCHES = (IMAGE_SIZE // PATCH_SIZE) ** 2\n",
        "MASK_PROPORTION = 0.6\n",
        "\n",
        "# ENCODER and DECODER\n",
        "LAYER_NORM_EPS = 1e-6\n",
        "PROJECTION_DIM = 64\n",
        "ENC_NUM_HEADS = 4\n",
        "ENC_LAYERS = 8\n",
        "DEC_NUM_HEADS = 4\n",
        "DEC_LAYERS = 2\n",
        "TRANSFORMER_UNITS = [\n",
        "    PROJECTION_DIM * 2,\n",
        "    PROJECTION_DIM,\n",
        "]  # Size of the transformer layers"
      ],
      "execution_count": 3,
      "outputs": []
    },
    {
      "cell_type": "markdown",
      "metadata": {
        "id": "rArMzRYX3REs"
      },
      "source": [
        "# Dataset\n",
        "\n",
        "Using CIFAR100 for our implementation."
      ]
    },
    {
      "cell_type": "code",
      "metadata": {
        "id": "wmsKcx_JEkUt",
        "colab": {
          "base_uri": "https://localhost:8080/"
        },
        "outputId": "9d4ae695-a376-4a91-f0c4-128971d3bc6e"
      },
      "source": [
        "(x_train, y_train), (x_test, y_test) = keras.datasets.cifar100.load_data()\n",
        "(x_train, y_train), (x_val, y_val) = (\n",
        "    (x_train[:40000], y_train[:40000]),\n",
        "    (x_train[40000:], y_train[40000:]),\n",
        ")\n",
        "print(f\"Training samples: {len(x_train)}\")\n",
        "print(f\"Validation samples: {len(x_val)}\")\n",
        "print(f\"Testing samples: {len(x_test)}\")"
      ],
      "execution_count": 4,
      "outputs": [
        {
          "output_type": "stream",
          "name": "stdout",
          "text": [
            "Downloading data from https://www.cs.toronto.edu/~kriz/cifar-100-python.tar.gz\n",
            "169009152/169001437 [==============================] - 3s 0us/step\n",
            "169017344/169001437 [==============================] - 3s 0us/step\n",
            "Training samples: 40000\n",
            "Validation samples: 10000\n",
            "Testing samples: 10000\n"
          ]
        }
      ]
    },
    {
      "cell_type": "code",
      "metadata": {
        "id": "F-rGBAtELs3F"
      },
      "source": [
        "train_ds = tf.data.Dataset.from_tensor_slices((x_train))\n",
        "train_ds = train_ds.shuffle(BUFFER_SIZE).batch(BATCH_SIZE, drop_remainder=True).prefetch(AUTO)\n",
        "\n",
        "val_ds = tf.data.Dataset.from_tensor_slices((x_val))\n",
        "val_ds = val_ds.batch(BATCH_SIZE, drop_remainder=True).prefetch(AUTO)\n",
        "\n",
        "test_ds = tf.data.Dataset.from_tensor_slices((x_test))\n",
        "test_ds = test_ds.batch(BATCH_SIZE, drop_remainder=True).prefetch(AUTO)"
      ],
      "execution_count": 5,
      "outputs": []
    },
    {
      "cell_type": "markdown",
      "metadata": {
        "id": "3AYntKxt3WP5"
      },
      "source": [
        "## Data Augmentation"
      ]
    },
    {
      "cell_type": "code",
      "metadata": {
        "id": "sXDYQCvJF1C5"
      },
      "source": [
        "def get_train_augmentation_model():\n",
        "    model = keras.Sequential(\n",
        "        [\n",
        "            layers.Rescaling(1 / 255.0),\n",
        "            layers.Resizing(IMAGE_SIZE, IMAGE_SIZE),\n",
        "            layers.RandomFlip(\"horizontal\"),\n",
        "            layers.RandomRotation(factor=0.02),\n",
        "            layers.RandomZoom(height_factor=0.2, width_factor=0.2),\n",
        "        ],\n",
        "        name=\"train_data_augmentation\",\n",
        "    )\n",
        "    return model\n",
        "\n",
        "\n",
        "def get_test_augmentation_model():\n",
        "    model = keras.Sequential(\n",
        "        [\n",
        "            layers.Rescaling(1 / 255.0),\n",
        "            layers.Resizing(IMAGE_SIZE, IMAGE_SIZE),\n",
        "        ],\n",
        "        name=\"test_data_augmentation\",\n",
        "    )\n",
        "    return model"
      ],
      "execution_count": 6,
      "outputs": []
    },
    {
      "cell_type": "markdown",
      "metadata": {
        "id": "kx9cp2o53Z9w"
      },
      "source": [
        "# Create Patches\n",
        "\n",
        "This layer creates patches from input images. The layer also consists of two utility methods:\n",
        "- `show_patched_image`: This utility function takes a batch of images and its corresponding patches, randomly choses a pair and plots it. This is useful for a sanity check.\n",
        "- `reconstruct_from_patch`: This utility funciton takes the patches of a **single** image, and reconstructs it back into the original image. This is useful for the training monitor callback defined later."
      ]
    },
    {
      "cell_type": "code",
      "metadata": {
        "id": "okJv4FwlGOG3"
      },
      "source": [
        "class Patches(layers.Layer):\n",
        "    def __init__(self, patch_size=PATCH_SIZE, **kwargs):\n",
        "        super().__init__(**kwargs)\n",
        "        self.patch_size = patch_size\n",
        "\n",
        "        # Assuming the image has three channels each patch would be\n",
        "        # of size (patch_size, patch_size, 3).\n",
        "        self.resize = layers.Reshape((-1, patch_size * patch_size * 3))\n",
        "\n",
        "    def call(self, images):\n",
        "        # Create patches from the input images\n",
        "        patches = tf.image.extract_patches(\n",
        "            images=images,\n",
        "            sizes=[1, self.patch_size, self.patch_size, 1],\n",
        "            strides=[1, self.patch_size, self.patch_size, 1],\n",
        "            rates=[1, 1, 1, 1],\n",
        "            padding=\"VALID\",\n",
        "        )\n",
        "\n",
        "        # Reshape the patches to (batch, num_patches, patch_area) and return it.\n",
        "        patches = self.resize(patches)\n",
        "        return patches\n",
        "\n",
        "    def show_patched_image(self, images, patches):\n",
        "        # This is a utility function which accepts a batch of images and its\n",
        "        # corresponding patches and help visualize one image and its patches\n",
        "        # side by side.\n",
        "        idx = np.random.choice(len(patches))\n",
        "        print(f\"Index selected: {idx}.\")\n",
        "        \n",
        "        plt.figure(figsize=(4, 4))\n",
        "        plt.imshow(keras.utils.array_to_img(images[idx]))\n",
        "        plt.axis(\"off\")\n",
        "        plt.show()\n",
        "\n",
        "        n = int(np.sqrt(NUM_PATCHES))\n",
        "        plt.figure(figsize=(4, 4))\n",
        "        for i, patch in enumerate(patches[idx]):\n",
        "            ax = plt.subplot(n, n, i + 1)\n",
        "            patch_img = tf.reshape(patch, (PATCH_SIZE, PATCH_SIZE, 3))\n",
        "            plt.imshow(keras.utils.img_to_array(patch_img))\n",
        "            plt.axis(\"off\")\n",
        "        plt.show()\n",
        "\n",
        "        # Return the index chosen to validate it outside the method.\n",
        "        return idx\n",
        "\n",
        "    # taken from https://stackoverflow.com/a/58082878/10319735\n",
        "    def reconstruct_from_patch(self, patch):\n",
        "        # This utility function takes patches from a *single* image and\n",
        "        # reconstructs it back into the image. This is useful for the train\n",
        "        # monitor callback.\n",
        "        patch = tf.reshape(patch, (NUM_PATCHES, PATCH_SIZE, PATCH_SIZE, 3))\n",
        "        rows = tf.split(patch, IMAGE_SIZE // PATCH_SIZE, axis=0)\n",
        "        rows = [tf.concat(tf.unstack(x), axis=1) for x in rows]\n",
        "        reconstructed = tf.concat(rows, axis=0)\n",
        "        return reconstructed"
      ],
      "execution_count": 7,
      "outputs": []
    },
    {
      "cell_type": "code",
      "metadata": {
        "id": "NXIVskF0O1u3"
      },
      "source": [
        "# Get a batch of images.\n",
        "image_batch = next(iter(train_ds))\n",
        "\n",
        "# Augment the images.\n",
        "augmentation_model = get_train_augmentation_model()\n",
        "augmeneted_images = augmentation_model(image_batch)\n",
        "\n",
        "# Define the patch layer.\n",
        "patch_layer = Patches()"
      ],
      "execution_count": 8,
      "outputs": []
    },
    {
      "cell_type": "code",
      "metadata": {
        "id": "FZgVpKzZSZso",
        "colab": {
          "base_uri": "https://localhost:8080/",
          "height": 496
        },
        "outputId": "5ce213e5-a49f-4399-cbbe-909618f3cec0"
      },
      "source": [
        "# Get the patches from the batched images.\n",
        "patches = patch_layer(images=augmeneted_images)\n",
        "\n",
        "# Now pass the images and the corresponding patches\n",
        "# to the `show_patched_image` method.\n",
        "random_index = patch_layer.show_patched_image(\n",
        "    images=augmeneted_images,\n",
        "    patches=patches\n",
        ")"
      ],
      "execution_count": 9,
      "outputs": [
        {
          "output_type": "stream",
          "name": "stdout",
          "text": [
            "Index selected: 102.\n"
          ]
        },
        {
          "output_type": "display_data",
          "data": {
            "image/png": "[encoded data removed]",
            "text/plain": [
              "<Figure size 288x288 with 1 Axes>"
            ]
          },
          "metadata": {
            "needs_background": "light"
          }
        },
        {
          "output_type": "display_data",
          "data": {
            "image/png": "[encoded data removed]",
            "text/plain": [
              "<Figure size 288x288 with 144 Axes>"
            ]
          },
          "metadata": {
            "needs_background": "light"
          }
        }
      ]
    },
    {
      "cell_type": "code",
      "metadata": {
        "id": "-kR4A7bMSU7q",
        "colab": {
          "base_uri": "https://localhost:8080/",
          "height": 248
        },
        "outputId": "587033ba-b156-4aa7-abea-56a1c190fe31"
      },
      "source": [
        "# Chose the same chose image and try reconstructing the patches\n",
        "# into the original image.\n",
        "image = patch_layer.reconstruct_from_patch(patches[random_index])\n",
        "plt.imshow(image)\n",
        "plt.axis(\"off\")\n",
        "plt.show()"
      ],
      "execution_count": 10,
      "outputs": [
        {
          "output_type": "display_data",
          "data": {
            "image/png": "[encoded data removed]",
            "text/plain": [
              "<Figure size 432x288 with 1 Axes>"
            ]
          },
          "metadata": {
            "needs_background": "light"
          }
        }
      ]
    },
    {
      "cell_type": "markdown",
      "metadata": {
        "id": "ss7CMuiWGNmw"
      },
      "source": [
        "# Patch Encoder\n",
        "\n",
        "This layer deals with encoding the pathces and adding the positional embedding too. The layer holds two utility functions:\n",
        "- `get_random_indices`: This function provides randomly sampled mask and unmask indices.\n",
        "- `show_masked_image`: A utility function that plots a random masked image."
      ]
    },
    {
      "cell_type": "code",
      "metadata": {
        "id": "qC_K3lYKK15g"
      },
      "source": [
        "class PatchEncoder(layers.Layer):\n",
        "    def __init__(\n",
        "        self, \n",
        "        patch_size=PATCH_SIZE,\n",
        "        projection_dim=PROJECTION_DIM,\n",
        "        mask_proportion=MASK_PROPORTION,\n",
        "        batch_size=BATCH_SIZE,\n",
        "        downstream=False,\n",
        "        **kwargs\n",
        "    ):\n",
        "        super().__init__(**kwargs)\n",
        "        self.patch_size = patch_size\n",
        "        self.projection_dim = projection_dim\n",
        "        self.mask_proportion = mask_proportion\n",
        "        self.batch_size = batch_size\n",
        "        self.downstream = downstream\n",
        "\n",
        "        # This is a trainable mask token initialized randomly from a normal\n",
        "        # distribution.\n",
        "        self.mask_token = tf.Variable(\n",
        "            tf.random.normal([1, patch_size * patch_size * 3]),\n",
        "            trainable=True\n",
        "        )\n",
        "\n",
        "    def build(self, input_shape):\n",
        "        (_, self.num_patches, self.patch_area) = input_shape\n",
        "\n",
        "        # Create the projection layer for the patches.\n",
        "        self.projection = layers.Dense(units=self.projection_dim)\n",
        "\n",
        "        # Create the positional embedding layer.\n",
        "        self.position_embedding = layers.Embedding(\n",
        "            input_dim=self.num_patches, output_dim=self.projection_dim)\n",
        "\n",
        "        # Number of patches that will be masked.\n",
        "        self.num_mask = int(self.mask_proportion * self.num_patches)\n",
        "\n",
        "    def call(self, patches):\n",
        "        # Get the positional embeddings.\n",
        "        positions = tf.range(start=0, limit=self.num_patches, delta=1)\n",
        "        pos_embeddings = self.position_embedding(positions[tf.newaxis, ...]\n",
        "        ) \n",
        "        pos_embeddings = tf.tile(\n",
        "            pos_embeddings, [self.batch_size, 1, 1]\n",
        "        )  # (B, num_patches, projection_dim)\n",
        "\n",
        "        # Embed the patches.\n",
        "        patch_embeddings = (\n",
        "            self.projection(patches) + pos_embeddings\n",
        "        )  # (B, num_patches, projection_dim)\n",
        "\n",
        "        if self.downstream:\n",
        "            return patch_embeddings\n",
        "        else:\n",
        "            mask_indices, unmask_indices = self.get_random_indices()\n",
        "            # The encoder input is the unmasked patch embeddings. Here we gather\n",
        "            # all the patches that should be unmasked.\n",
        "            unmasked_embeddings = tf.gather(\n",
        "                patch_embeddings, unmask_indices, axis=1, batch_dims=1\n",
        "            )  # (B, unmask_numbers, projection_dim)\n",
        "\n",
        "            # Get the unmasked and masked position embeddings. We will need them\n",
        "            # for the decoder.\n",
        "            unmasked_positions = tf.gather(\n",
        "                pos_embeddings, unmask_indices, axis=1, batch_dims=1\n",
        "            )  # (B, unmask_numbers, projection_dim)\n",
        "            masked_positions = tf.gather(\n",
        "                pos_embeddings, mask_indices, axis=1, batch_dims=1\n",
        "            )  # (B, mask_numbers, projection_dim)\n",
        "\n",
        "            # Repeat the mask token number of mask times.\n",
        "            # Mask tokens replace the masks of the image.\n",
        "            mask_tokens = tf.repeat(self.mask_token, repeats=self.num_mask, axis=0)\n",
        "            mask_tokens = tf.repeat(\n",
        "                mask_tokens[tf.newaxis, ...], repeats=self.batch_size, axis=0\n",
        "            )\n",
        "\n",
        "            # Get the masked embeddings for the tokens.\n",
        "            masked_embeddings = self.projection(mask_tokens) + masked_positions\n",
        "            return (\n",
        "                unmasked_embeddings,\n",
        "                masked_embeddings,\n",
        "                unmasked_positions,\n",
        "                mask_indices\n",
        "            )\n",
        "    \n",
        "    def get_random_indices(self):\n",
        "        # Create random indices from a uniform distribution and then split\n",
        "        # it into mask and unmask indices.\n",
        "        rand_indices = tf.argsort(\n",
        "            tf.random.uniform(shape=(self.batch_size, self.num_patches)),\n",
        "            axis=-1\n",
        "        )\n",
        "        mask_indices = rand_indices[:, : self.num_mask]\n",
        "        unmask_indices = rand_indices[:, self.num_mask :]\n",
        "\n",
        "        return mask_indices, unmask_indices\n",
        "\n",
        "    def show_masked_image(self, patches):\n",
        "        # Utility function that helps visualize maksed images.\n",
        "        _, unmask_indices = self.get_random_indices()\n",
        "        unmasked_patches = tf.gather(patches, unmask_indices, axis=1, batch_dims=1)\n",
        "\n",
        "        # Necessary for plotting.\n",
        "        ids = tf.argsort(unmask_indices)\n",
        "        sorted_unmask_indices = tf.sort(unmask_indices)\n",
        "        unmasked_patches = tf.gather(unmasked_patches, ids, batch_dims=1)\n",
        "        \n",
        "        # Select a random index for visualization.\n",
        "        idx = np.random.choice(len(sorted_unmask_indices))\n",
        "        print(f\"Index selected: {idx}.\")\n",
        "\n",
        "        n = int(np.sqrt(NUM_PATCHES))\n",
        "        unmask_index = sorted_unmask_indices[idx]\n",
        "        unmasked_patch = unmasked_patches[idx]\n",
        "\n",
        "        plt.figure(figsize=(4, 4))\n",
        "\n",
        "        count = 0\n",
        "        for i in range(NUM_PATCHES):\n",
        "            ax = plt.subplot(n, n, i + 1)\n",
        "\n",
        "            if count < PATCH_SIZE * PATCH_SIZE and unmask_index[count].numpy() == i:\n",
        "                patch = unmasked_patch[count]\n",
        "                patch_img = tf.reshape(patch, (PATCH_SIZE, PATCH_SIZE, 3))\n",
        "                plt.imshow(keras.utils.img_to_array(patch_img))\n",
        "                plt.axis(\"off\")\n",
        "                count = count + 1\n",
        "            else:\n",
        "                patch_img = tf.zeros((PATCH_SIZE, PATCH_SIZE, 3))\n",
        "                plt.imshow(keras.utils.img_to_array(patch_img))\n",
        "                plt.axis(\"off\")\n",
        "        plt.show()\n",
        "\n",
        "        # Return the random index to validate the image outside the method.\n",
        "        return idx"
      ],
      "execution_count": 11,
      "outputs": []
    },
    {
      "cell_type": "code",
      "metadata": {
        "id": "uPsJJ1fcRD8g",
        "colab": {
          "base_uri": "https://localhost:8080/",
          "height": 265
        },
        "outputId": "b5a01374-dddc-4a97-808f-6dab5e6d822d"
      },
      "source": [
        "# Create the patch encoder layer.\n",
        "patch_encoder = PatchEncoder()\n",
        "\n",
        "# Get the embeddings and positions.\n",
        "(unmasked_embeddings, masked_embeddings, unmasked_positions, mask_indices) = patch_encoder(\n",
        "    patches=patches\n",
        ")\n",
        "\n",
        "# Show a maksed patch image.\n",
        "random_index = patch_encoder.show_masked_image(patches)"
      ],
      "execution_count": 12,
      "outputs": [
        {
          "output_type": "stream",
          "name": "stdout",
          "text": [
            "Index selected: 435.\n"
          ]
        },
        {
          "output_type": "display_data",
          "data": {
            "image/png": "[encoded data removed]",
            "text/plain": [
              "<Figure size 288x288 with 144 Axes>"
            ]
          },
          "metadata": {
            "needs_background": "light"
          }
        }
      ]
    },
    {
      "cell_type": "code",
      "metadata": {
        "id": "9GqLF-UiPQiR",
        "colab": {
          "base_uri": "https://localhost:8080/",
          "height": 248
        },
        "outputId": "f5837987-6250-4ef3-ff61-2d110dc73b26"
      },
      "source": [
        "plt.imshow(augmeneted_images[random_index])\n",
        "plt.axis(\"off\")\n",
        "plt.show()"
      ],
      "execution_count": 13,
      "outputs": [
        {
          "output_type": "display_data",
          "data": {
            "image/png": "[encoded data removed]",
            "text/plain": [
              "<Figure size 432x288 with 1 Axes>"
            ]
          },
          "metadata": {
            "needs_background": "light"
          }
        }
      ]
    },
    {
      "cell_type": "markdown",
      "metadata": {
        "id": "_sfvIKrUUZE8"
      },
      "source": [
        "# Multi-Layer Perceptron"
      ]
    },
    {
      "cell_type": "code",
      "metadata": {
        "id": "lrqZHsrDfnDk"
      },
      "source": [
        "def mlp(x, dropout_rate, hidden_units=TRANSFORMER_UNITS):\n",
        "    for units in hidden_units:\n",
        "        x = layers.Dense(units, activation=tf.nn.gelu)(x)\n",
        "        x = layers.Dropout(dropout_rate)(x)\n",
        "    return x"
      ],
      "execution_count": 14,
      "outputs": []
    },
    {
      "cell_type": "markdown",
      "metadata": {
        "id": "8wbVJxZOUcwM"
      },
      "source": [
        "# Encoder"
      ]
    },
    {
      "cell_type": "code",
      "metadata": {
        "id": "DOB9rxSfQaJX"
      },
      "source": [
        "def create_encoder(num_heads=ENC_NUM_HEADS, num_layers=ENC_LAYERS):\n",
        "    inputs = layers.Input((None, PROJECTION_DIM))\n",
        "    x = inputs\n",
        "    \n",
        "    for _ in range(num_layers):\n",
        "        # Layer normalization 1.\n",
        "        x1 = layers.LayerNormalization(epsilon=LAYER_NORM_EPS)(x)\n",
        "        \n",
        "        # Create a multi-head attention layer.\n",
        "        attention_output = layers.MultiHeadAttention(\n",
        "            num_heads=num_heads, key_dim=PROJECTION_DIM, dropout=0.1\n",
        "        )(x1, x1)\n",
        "        \n",
        "        # Skip connection 1.\n",
        "        x2 = layers.Add()([attention_output, x])\n",
        "        \n",
        "        # Layer normalization 2.\n",
        "        x3 = layers.LayerNormalization(epsilon=LAYER_NORM_EPS)(x2)\n",
        "        \n",
        "        # MLP.\n",
        "        x3 = mlp(x3, hidden_units=TRANSFORMER_UNITS, dropout_rate=0.1)\n",
        "        \n",
        "        # Skip connection 2.\n",
        "        x = layers.Add()([x3, x2])\n",
        "    \n",
        "    outputs = layers.LayerNormalization(epsilon=LAYER_NORM_EPS)(x)\n",
        "    return keras.Model(inputs, outputs, name=\"mae_encoder\")"
      ],
      "execution_count": 15,
      "outputs": []
    },
    {
      "cell_type": "markdown",
      "metadata": {
        "id": "eEXmrt1OUeON"
      },
      "source": [
        "# Decoder"
      ]
    },
    {
      "cell_type": "code",
      "metadata": {
        "id": "zw-g56_jTKJu"
      },
      "source": [
        "def create_decoder(num_layers=DEC_LAYERS, num_heads=DEC_NUM_HEADS, image_size=IMAGE_SIZE):\n",
        "    inputs = layers.Input((NUM_PATCHES, PROJECTION_DIM))\n",
        "    x = inputs\n",
        "    \n",
        "    for _ in range(num_layers):\n",
        "        # Layer normalization 1.\n",
        "        x1 = layers.LayerNormalization(epsilon=LAYER_NORM_EPS)(x)\n",
        "        \n",
        "        # Create a multi-head attention layer.\n",
        "        attention_output = layers.MultiHeadAttention(\n",
        "            num_heads=num_heads, key_dim=PROJECTION_DIM, dropout=0.1\n",
        "        )(x1, x1)\n",
        "        \n",
        "        # Skip connection 1.\n",
        "        x2 = layers.Add()([attention_output, x])\n",
        "        \n",
        "        # Layer normalization 2.\n",
        "        x3 = layers.LayerNormalization(epsilon=LAYER_NORM_EPS)(x2)\n",
        "        \n",
        "        # MLP.\n",
        "        x3 = mlp(x3, hidden_units=TRANSFORMER_UNITS, dropout_rate=0.1)\n",
        "        \n",
        "        # Skip connection 2.\n",
        "        x = layers.Add()([x3, x2])\n",
        "        \n",
        "    x = layers.LayerNormalization(epsilon=LAYER_NORM_EPS)(x)\n",
        "    x = layers.Flatten()(x)\n",
        "    pre_final = layers.Dense(\n",
        "        units=image_size * image_size * 3, activation=\"sigmoid\"\n",
        "    )(x)\n",
        "    outputs = layers.Reshape((image_size, image_size, 3))(pre_final)\n",
        "    \n",
        "    return keras.Model(inputs, outputs, name=\"mae_decoder\")"
      ],
      "execution_count": 16,
      "outputs": []
    },
    {
      "cell_type": "markdown",
      "metadata": {
        "id": "zjwjMjJUUn_i"
      },
      "source": [
        "# MaskedAutoEncoder Model\n",
        "\n",
        "This is the trainer model where we encapsulate the training logic."
      ]
    },
    {
      "cell_type": "code",
      "metadata": {
        "id": "i2mm37Ew-S9X"
      },
      "source": [
        "class MaskedAutoencoder(keras.Model):\n",
        "    def __init__(\n",
        "        self,\n",
        "        train_augmentation_model,\n",
        "        test_augmentation_model,\n",
        "        patch_layer,\n",
        "        patch_encoder,\n",
        "        encoder,\n",
        "        decoder,\n",
        "        **kwargs\n",
        "    ):\n",
        "        super().__init__(**kwargs)\n",
        "        self.train_augmentation_model = train_augmentation_model\n",
        "        self.test_augmentation_model = test_augmentation_model\n",
        "        self.patch_layer = patch_layer\n",
        "        self.patch_encoder = patch_encoder\n",
        "        self.encoder = encoder\n",
        "        self.decoder = decoder\n",
        "\n",
        "    def calculate_loss(self, images, test=False):\n",
        "        # Augment the input images.\n",
        "        if test:\n",
        "            augmeneted_images = self.test_augmentation_model(images)\n",
        "        else:\n",
        "            augmeneted_images = self.train_augmentation_model(images)\n",
        "        \n",
        "        # Patch the augmented images.\n",
        "        patches = self.patch_layer(augmeneted_images)\n",
        "\n",
        "        # Encode the patches.\n",
        "        (\n",
        "            unmasked_embeddings,\n",
        "            masked_embeddings,\n",
        "            unmasked_positions,\n",
        "            mask_indices\n",
        "        ) = self.patch_encoder(patches)\n",
        "        encoder_outputs = self.encoder(unmasked_embeddings)\n",
        "\n",
        "        # Create the decoder inputs.\n",
        "        encoder_outputs = encoder_outputs + unmasked_positions\n",
        "        decoder_inputs = tf.concat([encoder_outputs, masked_embeddings], axis=1)\n",
        "\n",
        "        # Decode the inputs.\n",
        "        decoder_outputs = self.decoder(decoder_inputs)\n",
        "        decoder_patches = self.patch_layer(decoder_outputs)\n",
        "\n",
        "        loss_patch = tf.gather(\n",
        "            patches, mask_indices, axis=1, batch_dims=1\n",
        "        )\n",
        "        loss_output = tf.gather(\n",
        "            decoder_patches, mask_indices, axis=1, batch_dims=1\n",
        "        )\n",
        "\n",
        "        # Compute the total loss.\n",
        "        total_loss = self.compiled_loss(loss_patch, loss_output)\n",
        "\n",
        "        return total_loss, loss_patch, loss_output\n",
        "\n",
        "    def train_step(self, images):\n",
        "        with tf.GradientTape() as tape:\n",
        "            total_loss, loss_patch, loss_output = self.calculate_loss(images)\n",
        "\n",
        "        # Apply gradients.\n",
        "        train_vars = [\n",
        "            self.train_augmentation_model.trainable_variables,\n",
        "            self.patch_layer.trainable_variables,\n",
        "            self.patch_encoder.trainable_variables,\n",
        "            self.encoder.trainable_variables,\n",
        "            self.decoder.trainable_variables,\n",
        "        ]\n",
        "        grads = tape.gradient(total_loss, train_vars)\n",
        "        tv_list = []\n",
        "        for (grad, var) in zip(grads, train_vars):\n",
        "            for g, v in zip(grad, var):\n",
        "                tv_list.append((g, v))\n",
        "        self.optimizer.apply_gradients(tv_list)\n",
        "\n",
        "        # Report progress.\n",
        "        self.compiled_metrics.update_state(loss_patch, loss_output)\n",
        "        return {m.name: m.result() for m in self.metrics}\n",
        "\n",
        "    def test_step(self, images):\n",
        "        total_loss, loss_patch, loss_output = self.calculate_loss(\n",
        "            images,\n",
        "            test=True)\n",
        "\n",
        "        # Update the trackers.\n",
        "        self.compiled_metrics.update_state(loss_patch, loss_output)\n",
        "        return {m.name: m.result() for m in self.metrics}"
      ],
      "execution_count": 17,
      "outputs": []
    },
    {
      "cell_type": "markdown",
      "metadata": {
        "id": "YDPugtV2PkLa"
      },
      "source": [
        "# Model compilation"
      ]
    },
    {
      "cell_type": "code",
      "metadata": {
        "id": "1S5OCq-QLIoC"
      },
      "source": [
        "keras.backend.clear_session()\n",
        "\n",
        "train_augmentation_model = get_train_augmentation_model()\n",
        "test_augmentation_model = get_test_augmentation_model()\n",
        "patch_layer = Patches()\n",
        "patch_encoder = PatchEncoder()\n",
        "encoder = create_encoder()\n",
        "decoder = create_decoder()\n",
        "\n",
        "mae_model = MaskedAutoencoder(\n",
        "    train_augmentation_model=train_augmentation_model,\n",
        "    test_augmentation_model=test_augmentation_model,\n",
        "    patch_layer=patch_layer,\n",
        "    patch_encoder=patch_encoder,\n",
        "    encoder=encoder,\n",
        "    decoder=decoder,\n",
        ")\n",
        "\n",
        "optimizer = tfa.optimizers.AdamW(learning_rate=LEARNING_RATE, weight_decay=WEIGHT_DECAY)\n",
        "\n",
        "mae_model.compile(\n",
        "    optimizer=optimizer, loss=keras.losses.MeanSquaredError(), metrics=[\"mae\"]\n",
        ")"
      ],
      "execution_count": 18,
      "outputs": []
    },
    {
      "cell_type": "markdown",
      "metadata": {
        "id": "zAO683qcPrfT"
      },
      "source": [
        "# Training callbacks"
      ]
    },
    {
      "cell_type": "code",
      "metadata": {
        "id": "KTFe7p57lADH"
      },
      "source": [
        "# Taking a batch of test inputs to measure model's progress.\n",
        "test_images = next(iter(test_ds))\n",
        "test_aug_model = get_test_augmentation_model()\n",
        "test_augmeneted_images = test_aug_model(test_images)\n",
        "\n",
        "\n",
        "class TrainMonitor(tf.keras.callbacks.Callback):\n",
        "    def __init__(self, epoch_interval=None):\n",
        "        self.epoch_interval = epoch_interval\n",
        "\n",
        "    def on_epoch_end(self, epoch, logs=None):\n",
        "        if self.epoch_interval and epoch % self.epoch_interval == 0:\n",
        "            test_patches = self.model.patch_layer(test_augmeneted_images)\n",
        "            (\n",
        "                test_unmasked_embeddings,\n",
        "                test_masked_embeddings,\n",
        "                test_unmasked_positions,\n",
        "                _\n",
        "            ) = self.model.patch_encoder(test_patches)\n",
        "            test_encoder_outputs = self.model.encoder(test_unmasked_embeddings)\n",
        "            test_encoder_outputs = test_encoder_outputs + test_unmasked_positions\n",
        "            test_decoder_inputs = tf.concat(\n",
        "                [test_encoder_outputs, test_masked_embeddings], axis=1\n",
        "            )\n",
        "            test_decoder_outputs = self.model.decoder(test_decoder_inputs)\n",
        "\n",
        "            # Plot the images.\n",
        "            idx = np.random.choice(len(test_patches))\n",
        "            print(f\"\\nIndex selected: {idx}.\")\n",
        "            original = test_images[idx]\n",
        "            reconstructed = test_decoder_outputs[idx]\n",
        "            \n",
        "            fig, ax = plt.subplots(nrows=1, ncols=2, figsize=(10, 5))\n",
        "            ax[0].imshow(tf.keras.preprocessing.image.array_to_img(original))\n",
        "            ax[0].set_title(f\"Original: {epoch:03d}\")\n",
        "\n",
        "            ax[1].imshow(tf.keras.preprocessing.image.array_to_img(reconstructed))\n",
        "            ax[1].set_title(f\"Resonstructed: {epoch:03d}\")\n",
        "\n",
        "            plt.show()\n",
        "            plt.close()"
      ],
      "execution_count": 19,
      "outputs": []
    },
    {
      "cell_type": "code",
      "metadata": {
        "id": "OvutXCDrklPo"
      },
      "source": [
        "train_callbacks = [\n",
        "    keras.callbacks.ReduceLROnPlateau(\n",
        "        monitor=\"val_mae\", factor=0.5, patience=3, verbose=1\n",
        "    ),\n",
        "    TrainMonitor(epoch_interval=5),\n",
        "]"
      ],
      "execution_count": 20,
      "outputs": []
    },
    {
      "cell_type": "markdown",
      "metadata": {
        "id": "C86d-TrsP5rW"
      },
      "source": [
        "# Model training"
      ]
    },
    {
      "cell_type": "code",
      "metadata": {
        "id": "-lkHB5r3kQuQ",
        "colab": {
          "base_uri": "https://localhost:8080/",
          "height": 525
        },
        "outputId": "830e26fe-2793-4746-a09a-7cb0fb3b443e"
      },
      "source": [
        "history = mae_model.fit(\n",
        "    train_ds,\n",
        "    epochs=EPOCHS,\n",
        "    validation_data=val_ds,\n",
        "    callbacks=train_callbacks,\n",
        ")"
      ],
      "execution_count": 21,
      "outputs": [
        {
          "output_type": "stream",
          "name": "stdout",
          "text": [
            "Epoch 1/5\n",
            "78/78 [==============================] - ETA: 0s - loss: 0.0601 - mae: 0.1895\n",
            "Index selected: 348.\n"
          ]
        },
        {
          "output_type": "display_data",
          "data": {
            "image/png": "[encoded data removed]",
            "text/plain": [
              "<Figure size 720x360 with 2 Axes>"
            ]
          },
          "metadata": {
            "needs_background": "light"
          }
        },
        {
          "output_type": "stream",
          "name": "stdout",
          "text": [
            "\b\b\b\b\b\b\b\b\b\b\b\b\b\b\b\b\b\b\b\b\b\b\b\b\b\b\b\b\b\b\b\b\b\b\b\b\b\b\b\b\b\b\b\b\b\b\b\b\b\b\b\b\b\b\b\b\b\b\b\b\b\b\b\b\b\b\b\b\b\b\b\b\b\b\b\b\b\r78/78 [==============================] - 39s 361ms/step - loss: 0.0601 - mae: 0.1895 - val_loss: 0.0451 - val_mae: 0.1673 - lr: 0.0010\n",
            "Epoch 2/5\n",
            "78/78 [==============================] - 26s 336ms/step - loss: 0.0432 - mae: 0.1631 - val_loss: 0.0438 - val_mae: 0.1647 - lr: 0.0010\n",
            "Epoch 3/5\n",
            "78/78 [==============================] - 26s 337ms/step - loss: 0.0413 - mae: 0.1594 - val_loss: 0.0398 - val_mae: 0.1559 - lr: 0.0010\n",
            "Epoch 4/5\n",
            "78/78 [==============================] - 26s 337ms/step - loss: 0.0361 - mae: 0.1470 - val_loss: 0.0368 - val_mae: 0.1490 - lr: 0.0010\n",
            "Epoch 5/5\n",
            "78/78 [==============================] - 26s 336ms/step - loss: 0.0332 - mae: 0.1405 - val_loss: 0.0321 - val_mae: 0.1381 - lr: 0.0010\n"
          ]
        }
      ]
    },
    {
      "cell_type": "code",
      "metadata": {
        "id": "9rr_h7O6Q7S_",
        "colab": {
          "base_uri": "https://localhost:8080/"
        },
        "outputId": "8220a1a1-07ba-4acc-d5ff-b8a027e621c1"
      },
      "source": [
        "loss, mae = mae_model.evaluate(test_ds.take(5))\n",
        "print(f\"Loss: {loss:.2f}\")\n",
        "print(f\"MAE: {mae:.2f}\")"
      ],
      "execution_count": 22,
      "outputs": [
        {
          "output_type": "stream",
          "name": "stdout",
          "text": [
            "5/5 [==============================] - 1s 109ms/step - loss: 0.0324 - mae: 0.1387\n",
            "Loss: 0.03\n",
            "MAE: 0.14\n"
          ]
        }
      ]
    },
    {
      "cell_type": "markdown",
      "metadata": {
        "id": "vpOuk1keZ6zr"
      },
      "source": [
        "# Downstream Task\n",
        "\n",
        "Use the following layers for the downstream task."
      ]
    },
    {
      "cell_type": "code",
      "metadata": {
        "id": "wUB1zuNJaOwp"
      },
      "source": [
        "train_augmentation_model = mae_model.train_augmentation_model\n",
        "test_augmentation_model = mae_model.test_augmentation_model\n",
        "patch_layer = mae_model.patch_layer\n",
        "patch_encoder = mae_model.patch_encoder\n",
        "# swtich the downstream flag to True\n",
        "patch_encoder.downstream = True\n",
        "encoder = mae_model.encoder"
      ],
      "execution_count": 23,
      "outputs": []
    },
    {
      "cell_type": "code",
      "metadata": {
        "id": "5eS_OSDNcblF"
      },
      "source": [
        "train_ds = tf.data.Dataset.from_tensor_slices((x_train, y_train))\n",
        "train_ds = train_ds.shuffle(BUFFER_SIZE).batch(BATCH_SIZE, drop_remainder=True).prefetch(AUTO)\n",
        "\n",
        "val_ds = tf.data.Dataset.from_tensor_slices((x_val, y_val))\n",
        "val_ds = val_ds.batch(BATCH_SIZE, drop_remainder=True).prefetch(AUTO)\n",
        "\n",
        "test_ds = tf.data.Dataset.from_tensor_slices((x_test, y_test))\n",
        "test_ds = test_ds.batch(BATCH_SIZE, drop_remainder=True).prefetch(AUTO)"
      ],
      "execution_count": 24,
      "outputs": []
    },
    {
      "cell_type": "code",
      "metadata": {
        "colab": {
          "base_uri": "https://localhost:8080/"
        },
        "id": "Lp-FxQPEcqko",
        "outputId": "45e19469-18d9-498e-d379-cd0b98f6c938"
      },
      "source": [
        "for images, labels in train_ds.take(1):\n",
        "    # Augment the images.\n",
        "    augmeneted_images = train_augmentation_model(images)\n",
        "    # Patch the augmented images.\n",
        "    patches = patch_layer(augmeneted_images)\n",
        "\n",
        "    # Encode the patches.\n",
        "    patch_embeddings = patch_encoder(patches)\n",
        "    encoder_outputs = encoder(patch_embeddings)\n",
        "\n",
        "    print(encoder_outputs.shape)"
      ],
      "execution_count": 25,
      "outputs": [
        {
          "output_type": "stream",
          "name": "stdout",
          "text": [
            "(512, 144, 64)\n"
          ]
        }
      ]
    }
  ]
}