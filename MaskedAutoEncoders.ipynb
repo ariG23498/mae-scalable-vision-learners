{
 "cells": [
  {
   "cell_type": "markdown",
   "metadata": {
    "id": "gq8N_kV5J-je"
   },
   "source": [
    "# Masked Autoencoders Are Scalable Vision Learners\n",
    "\n",
    "This notebook is a TF2 implementation of [Masked Autoencoders Are Scalable Vision Learners](https://arxiv.org/abs/2111.06377) by He et. al. \n",
    "\n",
    "The notebook uses the following resources as references:\n",
    "\n",
    "* https://keras.io/examples/vision/image_classification_with_vision_transformer/"
   ]
  },
  {
   "cell_type": "markdown",
   "metadata": {
    "id": "7R1xBElz3PDk"
   },
   "source": [
    "# Imports & Setup"
   ]
  },
  {
   "cell_type": "code",
   "execution_count": 1,
   "metadata": {
    "colab": {
     "base_uri": "https://localhost:8080/"
    },
    "id": "PFy49HtxKz3r",
    "outputId": "ca994a36-c3dc-425d-a99d-7155c0cb559a"
   },
   "outputs": [
    {
     "name": "stdout",
     "output_type": "stream",
     "text": [
      "\u001b[?25l\r",
      "\u001b[K     |▎                               | 10 kB 19.2 MB/s eta 0:00:01\r",
      "\u001b[K     |▋                               | 20 kB 21.9 MB/s eta 0:00:01\r",
      "\u001b[K     |▉                               | 30 kB 19.0 MB/s eta 0:00:01\r",
      "\u001b[K     |█▏                              | 40 kB 12.4 MB/s eta 0:00:01\r",
      "\u001b[K     |█▌                              | 51 kB 8.0 MB/s eta 0:00:01\r",
      "\u001b[K     |█▊                              | 61 kB 7.6 MB/s eta 0:00:01\r",
      "\u001b[K     |██                              | 71 kB 7.4 MB/s eta 0:00:01\r",
      "\u001b[K     |██▍                             | 81 kB 8.2 MB/s eta 0:00:01\r",
      "\u001b[K     |██▋                             | 92 kB 7.3 MB/s eta 0:00:01\r",
      "\u001b[K     |███                             | 102 kB 7.5 MB/s eta 0:00:01\r",
      "\u001b[K     |███▎                            | 112 kB 7.5 MB/s eta 0:00:01\r",
      "\u001b[K     |███▌                            | 122 kB 7.5 MB/s eta 0:00:01\r",
      "\u001b[K     |███▉                            | 133 kB 7.5 MB/s eta 0:00:01\r",
      "\u001b[K     |████▏                           | 143 kB 7.5 MB/s eta 0:00:01\r",
      "\u001b[K     |████▍                           | 153 kB 7.5 MB/s eta 0:00:01\r",
      "\u001b[K     |████▊                           | 163 kB 7.5 MB/s eta 0:00:01\r",
      "\u001b[K     |█████                           | 174 kB 7.5 MB/s eta 0:00:01\r",
      "\u001b[K     |█████▎                          | 184 kB 7.5 MB/s eta 0:00:01\r",
      "\u001b[K     |█████▋                          | 194 kB 7.5 MB/s eta 0:00:01\r",
      "\u001b[K     |█████▉                          | 204 kB 7.5 MB/s eta 0:00:01\r",
      "\u001b[K     |██████▏                         | 215 kB 7.5 MB/s eta 0:00:01\r",
      "\u001b[K     |██████▌                         | 225 kB 7.5 MB/s eta 0:00:01\r",
      "\u001b[K     |██████▊                         | 235 kB 7.5 MB/s eta 0:00:01\r",
      "\u001b[K     |███████                         | 245 kB 7.5 MB/s eta 0:00:01\r",
      "\u001b[K     |███████▍                        | 256 kB 7.5 MB/s eta 0:00:01\r",
      "\u001b[K     |███████▋                        | 266 kB 7.5 MB/s eta 0:00:01\r",
      "\u001b[K     |████████                        | 276 kB 7.5 MB/s eta 0:00:01\r",
      "\u001b[K     |████████▎                       | 286 kB 7.5 MB/s eta 0:00:01\r",
      "\u001b[K     |████████▌                       | 296 kB 7.5 MB/s eta 0:00:01\r",
      "\u001b[K     |████████▉                       | 307 kB 7.5 MB/s eta 0:00:01\r",
      "\u001b[K     |█████████                       | 317 kB 7.5 MB/s eta 0:00:01\r",
      "\u001b[K     |█████████▍                      | 327 kB 7.5 MB/s eta 0:00:01\r",
      "\u001b[K     |█████████▊                      | 337 kB 7.5 MB/s eta 0:00:01\r",
      "\u001b[K     |██████████                      | 348 kB 7.5 MB/s eta 0:00:01\r",
      "\u001b[K     |██████████▎                     | 358 kB 7.5 MB/s eta 0:00:01\r",
      "\u001b[K     |██████████▋                     | 368 kB 7.5 MB/s eta 0:00:01\r",
      "\u001b[K     |██████████▉                     | 378 kB 7.5 MB/s eta 0:00:01\r",
      "\u001b[K     |███████████▏                    | 389 kB 7.5 MB/s eta 0:00:01\r",
      "\u001b[K     |███████████▌                    | 399 kB 7.5 MB/s eta 0:00:01\r",
      "\u001b[K     |███████████▊                    | 409 kB 7.5 MB/s eta 0:00:01\r",
      "\u001b[K     |████████████                    | 419 kB 7.5 MB/s eta 0:00:01\r",
      "\u001b[K     |████████████▍                   | 430 kB 7.5 MB/s eta 0:00:01\r",
      "\u001b[K     |████████████▋                   | 440 kB 7.5 MB/s eta 0:00:01\r",
      "\u001b[K     |█████████████                   | 450 kB 7.5 MB/s eta 0:00:01\r",
      "\u001b[K     |█████████████▎                  | 460 kB 7.5 MB/s eta 0:00:01\r",
      "\u001b[K     |█████████████▌                  | 471 kB 7.5 MB/s eta 0:00:01\r",
      "\u001b[K     |█████████████▉                  | 481 kB 7.5 MB/s eta 0:00:01\r",
      "\u001b[K     |██████████████                  | 491 kB 7.5 MB/s eta 0:00:01\r",
      "\u001b[K     |██████████████▍                 | 501 kB 7.5 MB/s eta 0:00:01\r",
      "\u001b[K     |██████████████▊                 | 512 kB 7.5 MB/s eta 0:00:01\r",
      "\u001b[K     |███████████████                 | 522 kB 7.5 MB/s eta 0:00:01\r",
      "\u001b[K     |███████████████▎                | 532 kB 7.5 MB/s eta 0:00:01\r",
      "\u001b[K     |███████████████▋                | 542 kB 7.5 MB/s eta 0:00:01\r",
      "\u001b[K     |███████████████▉                | 552 kB 7.5 MB/s eta 0:00:01\r",
      "\u001b[K     |████████████████▏               | 563 kB 7.5 MB/s eta 0:00:01\r",
      "\u001b[K     |████████████████▌               | 573 kB 7.5 MB/s eta 0:00:01\r",
      "\u001b[K     |████████████████▊               | 583 kB 7.5 MB/s eta 0:00:01\r",
      "\u001b[K     |█████████████████               | 593 kB 7.5 MB/s eta 0:00:01\r",
      "\u001b[K     |█████████████████▍              | 604 kB 7.5 MB/s eta 0:00:01\r",
      "\u001b[K     |█████████████████▋              | 614 kB 7.5 MB/s eta 0:00:01\r",
      "\u001b[K     |██████████████████              | 624 kB 7.5 MB/s eta 0:00:01\r",
      "\u001b[K     |██████████████████▏             | 634 kB 7.5 MB/s eta 0:00:01\r",
      "\u001b[K     |██████████████████▌             | 645 kB 7.5 MB/s eta 0:00:01\r",
      "\u001b[K     |██████████████████▉             | 655 kB 7.5 MB/s eta 0:00:01\r",
      "\u001b[K     |███████████████████             | 665 kB 7.5 MB/s eta 0:00:01\r",
      "\u001b[K     |███████████████████▍            | 675 kB 7.5 MB/s eta 0:00:01\r",
      "\u001b[K     |███████████████████▊            | 686 kB 7.5 MB/s eta 0:00:01\r",
      "\u001b[K     |████████████████████            | 696 kB 7.5 MB/s eta 0:00:01\r",
      "\u001b[K     |████████████████████▎           | 706 kB 7.5 MB/s eta 0:00:01\r",
      "\u001b[K     |████████████████████▋           | 716 kB 7.5 MB/s eta 0:00:01\r",
      "\u001b[K     |████████████████████▉           | 727 kB 7.5 MB/s eta 0:00:01\r",
      "\u001b[K     |█████████████████████▏          | 737 kB 7.5 MB/s eta 0:00:01\r",
      "\u001b[K     |█████████████████████▌          | 747 kB 7.5 MB/s eta 0:00:01\r",
      "\u001b[K     |█████████████████████▊          | 757 kB 7.5 MB/s eta 0:00:01\r",
      "\u001b[K     |██████████████████████          | 768 kB 7.5 MB/s eta 0:00:01\r",
      "\u001b[K     |██████████████████████▎         | 778 kB 7.5 MB/s eta 0:00:01\r",
      "\u001b[K     |██████████████████████▋         | 788 kB 7.5 MB/s eta 0:00:01\r",
      "\u001b[K     |███████████████████████         | 798 kB 7.5 MB/s eta 0:00:01\r",
      "\u001b[K     |███████████████████████▏        | 808 kB 7.5 MB/s eta 0:00:01\r",
      "\u001b[K     |███████████████████████▌        | 819 kB 7.5 MB/s eta 0:00:01\r",
      "\u001b[K     |███████████████████████▉        | 829 kB 7.5 MB/s eta 0:00:01\r",
      "\u001b[K     |████████████████████████        | 839 kB 7.5 MB/s eta 0:00:01\r",
      "\u001b[K     |████████████████████████▍       | 849 kB 7.5 MB/s eta 0:00:01\r",
      "\u001b[K     |████████████████████████▊       | 860 kB 7.5 MB/s eta 0:00:01\r",
      "\u001b[K     |█████████████████████████       | 870 kB 7.5 MB/s eta 0:00:01\r",
      "\u001b[K     |█████████████████████████▎      | 880 kB 7.5 MB/s eta 0:00:01\r",
      "\u001b[K     |█████████████████████████▋      | 890 kB 7.5 MB/s eta 0:00:01\r",
      "\u001b[K     |█████████████████████████▉      | 901 kB 7.5 MB/s eta 0:00:01\r",
      "\u001b[K     |██████████████████████████▏     | 911 kB 7.5 MB/s eta 0:00:01\r",
      "\u001b[K     |██████████████████████████▌     | 921 kB 7.5 MB/s eta 0:00:01\r",
      "\u001b[K     |██████████████████████████▊     | 931 kB 7.5 MB/s eta 0:00:01\r",
      "\u001b[K     |███████████████████████████     | 942 kB 7.5 MB/s eta 0:00:01\r",
      "\u001b[K     |███████████████████████████▎    | 952 kB 7.5 MB/s eta 0:00:01\r",
      "\u001b[K     |███████████████████████████▋    | 962 kB 7.5 MB/s eta 0:00:01\r",
      "\u001b[K     |████████████████████████████    | 972 kB 7.5 MB/s eta 0:00:01\r",
      "\u001b[K     |████████████████████████████▏   | 983 kB 7.5 MB/s eta 0:00:01\r",
      "\u001b[K     |████████████████████████████▌   | 993 kB 7.5 MB/s eta 0:00:01\r",
      "\u001b[K     |████████████████████████████▉   | 1.0 MB 7.5 MB/s eta 0:00:01\r",
      "\u001b[K     |█████████████████████████████   | 1.0 MB 7.5 MB/s eta 0:00:01\r",
      "\u001b[K     |█████████████████████████████▍  | 1.0 MB 7.5 MB/s eta 0:00:01\r",
      "\u001b[K     |█████████████████████████████▊  | 1.0 MB 7.5 MB/s eta 0:00:01\r",
      "\u001b[K     |██████████████████████████████  | 1.0 MB 7.5 MB/s eta 0:00:01\r",
      "\u001b[K     |██████████████████████████████▎ | 1.1 MB 7.5 MB/s eta 0:00:01\r",
      "\u001b[K     |██████████████████████████████▋ | 1.1 MB 7.5 MB/s eta 0:00:01\r",
      "\u001b[K     |██████████████████████████████▉ | 1.1 MB 7.5 MB/s eta 0:00:01\r",
      "\u001b[K     |███████████████████████████████▏| 1.1 MB 7.5 MB/s eta 0:00:01\r",
      "\u001b[K     |███████████████████████████████▍| 1.1 MB 7.5 MB/s eta 0:00:01\r",
      "\u001b[K     |███████████████████████████████▊| 1.1 MB 7.5 MB/s eta 0:00:01\r",
      "\u001b[K     |████████████████████████████████| 1.1 MB 7.5 MB/s \n",
      "\u001b[?25h"
     ]
    }
   ],
   "source": [
    "! pip install -q tensorflow-addons"
   ]
  },
  {
   "cell_type": "code",
   "execution_count": 1,
   "metadata": {
    "id": "AUn7CggVEPer"
   },
   "outputs": [],
   "source": [
    "from tensorflow.keras import layers\n",
    "import tensorflow_addons as tfa\n",
    "from tensorflow import keras\n",
    "import tensorflow as tf\n",
    "\n",
    "import matplotlib.pyplot as plt\n",
    "import numpy as np\n",
    "import random\n",
    "\n",
    "# Setting seeds for reproducibility.\n",
    "SEED = 42\n",
    "tf.random.set_seed(SEED)\n",
    "np.random.seed(SEED)\n",
    "random.seed(SEED)"
   ]
  },
  {
   "cell_type": "code",
   "execution_count": null,
   "metadata": {},
   "outputs": [],
   "source": [
    "try:  # detect TPUs\n",
    "    tpu = None\n",
    "    tpu = tf.distribute.cluster_resolver.TPUClusterResolver()  # TPU detection\n",
    "    tf.config.experimental_connect_to_cluster(tpu)\n",
    "    tf.tpu.experimental.initialize_tpu_system(tpu)\n",
    "    strategy = tf.distribute.experimental.TPUStrategy(tpu)\n",
    "except ValueError:  # detect GPUs\n",
    "    strategy = tf.distribute.MirroredStrategy()  # for GPU or multi-GPU machines\n",
    "\n",
    "print(\"Number of accelerators: \", strategy.num_replicas_in_sync)"
   ]
  },
  {
   "cell_type": "code",
   "execution_count": 2,
   "metadata": {
    "id": "8vtkCMZIMCcV"
   },
   "outputs": [],
   "source": [
    "# DATA\n",
    "BUFFER_SIZE = 1024\n",
    "BATCH_SIZE = 512\n",
    "AUTO = tf.data.AUTOTUNE\n",
    "INPUT_SHAPE = (32, 32, 3)\n",
    "NUM_CLASSES = 100\n",
    "\n",
    "# NETWORK\n",
    "LAYER_NORM_EPS = 1e-6\n",
    "\n",
    "# OPTIMIZER\n",
    "LEARNING_RATE = 1e-3\n",
    "WEIGHT_DECAY = 1e-4\n",
    "\n",
    "# TRAINING\n",
    "EPOCHS = 10\n",
    "\n",
    "# AUGMENTATION\n",
    "IMAGE_SIZE = 72  # We'll resize input images to this size\n",
    "PATCH_SIZE = 6  # Size of the patches to be extract from the input images\n",
    "NUM_PATCHES = (IMAGE_SIZE // PATCH_SIZE) ** 2\n",
    "\n",
    "# ENCODER and DECODER\n",
    "PROJECTION_DIM = 64\n",
    "ENC_NUM_HEADS = 4\n",
    "ENC_LAYERS = 8\n",
    "DEC_NUM_HEADS = 4\n",
    "DEC_LAYERS = 8\n",
    "TRANSFORMER_UNITS = [\n",
    "    PROJECTION_DIM * 2,\n",
    "    PROJECTION_DIM,\n",
    "]  # Size of the transformer layers"
   ]
  },
  {
   "cell_type": "markdown",
   "metadata": {
    "id": "rArMzRYX3REs"
   },
   "source": [
    "# Dataset\n",
    "\n",
    "Using CIFAR100 for our implementation."
   ]
  },
  {
   "cell_type": "code",
   "execution_count": 3,
   "metadata": {
    "colab": {
     "base_uri": "https://localhost:8080/"
    },
    "id": "wmsKcx_JEkUt",
    "outputId": "e2d1fe4f-3cfd-4eb5-a462-ffe258e91efb"
   },
   "outputs": [
    {
     "name": "stdout",
     "output_type": "stream",
     "text": [
      "Training samples: 40000\n",
      "Validation samples: 10000\n",
      "Testing samples: 10000\n"
     ]
    }
   ],
   "source": [
    "(x_train, y_train), (x_test, y_test) = keras.datasets.cifar100.load_data()\n",
    "(x_train, y_train), (x_val, y_val) = (\n",
    "    (x_train[:40000], y_train[:40000]),\n",
    "    (x_train[40000:], y_train[40000:]),\n",
    ")\n",
    "print(f\"Training samples: {len(x_train)}\")\n",
    "print(f\"Validation samples: {len(x_val)}\")\n",
    "print(f\"Testing samples: {len(x_test)}\")"
   ]
  },
  {
   "cell_type": "code",
   "execution_count": 4,
   "metadata": {
    "id": "F-rGBAtELs3F"
   },
   "outputs": [
    {
     "name": "stderr",
     "output_type": "stream",
     "text": [
      "2021-11-16 18:47:07.073997: I tensorflow/core/platform/cpu_feature_guard.cc:142] This TensorFlow binary is optimized with oneAPI Deep Neural Network Library (oneDNN) to use the following CPU instructions in performance-critical operations:  AVX2 FMA\n",
      "To enable them in other operations, rebuild TensorFlow with the appropriate compiler flags.\n"
     ]
    }
   ],
   "source": [
    "train_ds = tf.data.Dataset.from_tensor_slices((x_train))\n",
    "train_ds = train_ds.batch(BATCH_SIZE).prefetch(AUTO)\n",
    "\n",
    "val_ds = tf.data.Dataset.from_tensor_slices((x_val))\n",
    "val_ds = val_ds.batch(BATCH_SIZE).prefetch(AUTO)\n",
    "\n",
    "test_ds = tf.data.Dataset.from_tensor_slices((x_test))\n",
    "test_ds = test_ds.prefetch(AUTO)"
   ]
  },
  {
   "cell_type": "markdown",
   "metadata": {
    "id": "3AYntKxt3WP5"
   },
   "source": [
    "## Data Augmentation"
   ]
  },
  {
   "cell_type": "code",
   "execution_count": 5,
   "metadata": {
    "id": "sXDYQCvJF1C5"
   },
   "outputs": [],
   "source": [
    "def get_augmentation_model():\n",
    "    model = keras.Sequential(\n",
    "        [\n",
    "            layers.Rescaling(1 / 255.0),\n",
    "            layers.Resizing(IMAGE_SIZE, IMAGE_SIZE),\n",
    "            layers.RandomFlip(\"horizontal\"),\n",
    "            layers.RandomRotation(factor=0.02),\n",
    "            layers.RandomZoom(height_factor=0.2, width_factor=0.2),\n",
    "        ],\n",
    "        name=\"data_augmentation\",\n",
    "    )\n",
    "    return model\n",
    "\n",
    "\n",
    "def get_test_augmentation_model():\n",
    "    model = keras.Sequential(\n",
    "        [layers.Rescaling(1 / 255.0), layers.Resizing(IMAGE_SIZE, IMAGE_SIZE),],\n",
    "        name=\"test_data_augmentation\",\n",
    "    )\n",
    "    return model"
   ]
  },
  {
   "cell_type": "markdown",
   "metadata": {
    "id": "kx9cp2o53Z9w"
   },
   "source": [
    "# Create Patches"
   ]
  },
  {
   "cell_type": "code",
   "execution_count": 6,
   "metadata": {
    "id": "okJv4FwlGOG3"
   },
   "outputs": [],
   "source": [
    "class Patches(layers.Layer):\n",
    "    def __init__(self, patch_size, **kwargs):\n",
    "        super().__init__(**kwargs)\n",
    "        self.patch_size = patch_size\n",
    "        # Assuming the image has three channels each patch would be\n",
    "        # of size (patch_size, patch_size, 3).\n",
    "        self.resize = layers.Reshape((-1, patch_size * patch_size * 3))\n",
    "\n",
    "    def call(self, images):\n",
    "        patches = tf.image.extract_patches(\n",
    "            images=images,\n",
    "            sizes=[1, self.patch_size, self.patch_size, 1],\n",
    "            strides=[1, self.patch_size, self.patch_size, 1],\n",
    "            rates=[1, 1, 1, 1],\n",
    "            padding=\"VALID\",\n",
    "        )\n",
    "        patches = self.resize(patches)\n",
    "        return patches\n",
    "\n",
    "    def show_patched_image(self, images, patches):\n",
    "        # Here we will accept a batch of patches and show a randomly selected image.\n",
    "        idx = np.random.choice(len(patches))\n",
    "        print(f\"Index selected: {idx}.\")\n",
    "        \n",
    "        plt.figure(figsize=(4, 4))\n",
    "        plt.imshow(keras.utils.array_to_img(images[idx]))\n",
    "        plt.axis(\"off\")\n",
    "        plt.show()\n",
    "\n",
    "        n = int(np.sqrt(NUM_PATCHES))\n",
    "        plt.figure(figsize=(4, 4))\n",
    "        for i, patch in enumerate(patches[idx]):\n",
    "            ax = plt.subplot(n, n, i + 1)\n",
    "            patch_img = tf.reshape(patch, (PATCH_SIZE, PATCH_SIZE, 3))\n",
    "            plt.imshow(keras.utils.img_to_array(patch_img))\n",
    "            plt.axis(\"off\")\n",
    "        plt.show()\n",
    "\n",
    "    # Useful for the training monitor.\n",
    "    # taken from https://stackoverflow.com/a/58082878/10319735\n",
    "    def reconstruct_from_patch(self, patches):\n",
    "        # This reconstructs one image at a time\n",
    "        # does not work with batched images.\n",
    "        patches_tmp = tf.reshape(patches, (NUM_PATCHES, PATCH_SIZE, PATCH_SIZE, 3))\n",
    "        rows = tf.split(patches_tmp, IMAGE_SIZE // PATCH_SIZE, axis=0)\n",
    "        rows = [tf.concat(tf.unstack(x), axis=1) for x in rows]\n",
    "        reconstructed = tf.concat(rows, axis=0)\n",
    "        return reconstructed"
   ]
  },
  {
   "cell_type": "code",
   "execution_count": 7,
   "metadata": {
    "id": "NXIVskF0O1u3"
   },
   "outputs": [],
   "source": [
    "image_batch = next(iter(train_ds))\n",
    "augmentation_model = get_augmentation_model()\n",
    "augmeneted_images = augmentation_model(image_batch)\n",
    "patch_layer = Patches(patch_size=PATCH_SIZE)"
   ]
  },
  {
   "cell_type": "code",
   "execution_count": 8,
   "metadata": {
    "colab": {
     "base_uri": "https://localhost:8080/",
     "height": 479
    },
    "id": "FZgVpKzZSZso",
    "outputId": "01fe0ad6-97a3-493f-9241-ed27582a7f25"
   },
   "outputs": [
    {
     "name": "stdout",
     "output_type": "stream",
     "text": [
      "Index selected: 102.\n"
     ]
    },
    {
     "data": {
      "image/png": "[encoded data removed]",
      "text/plain": [
       "<Figure size 288x288 with 1 Axes>"
      ]
     },
     "metadata": {
      "needs_background": "light"
     },
     "output_type": "display_data"
    },
    {
     "data": {
      "image/png": "[encoded data removed]",
      "text/plain": [
       "<Figure size 288x288 with 144 Axes>"
      ]
     },
     "metadata": {
      "needs_background": "light"
     },
     "output_type": "display_data"
    }
   ],
   "source": [
    "patches = patch_layer(images=augmeneted_images)\n",
    "patch_layer.show_patched_image(augmeneted_images, patches)"
   ]
  },
  {
   "cell_type": "code",
   "execution_count": 9,
   "metadata": {
    "colab": {
     "base_uri": "https://localhost:8080/",
     "height": 268
    },
    "id": "-kR4A7bMSU7q",
    "outputId": "1a1af25c-39b0-4745-badf-2dd9871c21e1"
   },
   "outputs": [
    {
     "data": {
      "image/png": "[encoded data removed]",
      "text/plain": [
       "<Figure size 432x288 with 1 Axes>"
      ]
     },
     "metadata": {
      "needs_background": "light"
     },
     "output_type": "display_data"
    }
   ],
   "source": [
    "image = patch_layer.reconstruct_from_patch(patches[348])\n",
    "plt.imshow(image)\n",
    "plt.show()"
   ]
  },
  {
   "cell_type": "markdown",
   "metadata": {
    "id": "ss7CMuiWGNmw"
   },
   "source": [
    "# Patch Encoder"
   ]
  },
  {
   "cell_type": "code",
   "execution_count": 10,
   "metadata": {
    "id": "qC_K3lYKK15g"
   },
   "outputs": [],
   "source": [
    "class PatchEncoder(layers.Layer):\n",
    "    def __init__(self, patch_size, projection_dim, batch_size, **kwargs):\n",
    "        super().__init__(**kwargs)\n",
    "        self.patch_size = patch_size\n",
    "        self.projection_dim = projection_dim\n",
    "        self.batch_size = batch_size\n",
    "\n",
    "        # This is a trainable mask token as suggested in the paper.\n",
    "        self.mask_token = tf.Variable(\n",
    "            tf.random.normal([1, patch_size * patch_size * 3])\n",
    "        )\n",
    "\n",
    "    def build(self, input_shape):\n",
    "        (_, self.num_patches, self.patch_area) = input_shape\n",
    "\n",
    "        # Create the projection layer.\n",
    "        self.projection = layers.Dense(units=self.projection_dim)\n",
    "\n",
    "        # Create the positional embedding layer.\n",
    "        self.position_embedding = layers.Embedding(\n",
    "            input_dim=self.num_patches, output_dim=self.projection_dim\n",
    "        )\n",
    "\n",
    "        # 75% of number of patches should be masked.\n",
    "        self.num_mask = int(0.75 * self.num_patches)\n",
    "\n",
    "        # Create random indices from a uniform distribution and then split\n",
    "        # it into mask and unmask indices.\n",
    "        rand_indices = tf.argsort(\n",
    "            tf.random.uniform(shape=(self.batch_size, self.num_patches)), axis=-1\n",
    "        )\n",
    "        self.mask_indices = rand_indices[:, : self.num_mask]\n",
    "        self.unmask_indices = rand_indices[:, self.num_mask :]\n",
    "\n",
    "    def call(self, patch):\n",
    "        # patch shape = (B, num_patches, p*p*3)\n",
    "        # Get the positional embeddings.\n",
    "        positions = tf.range(start=0, limit=self.num_patches, delta=1)\n",
    "        pos_embeddings = self.position_embedding(positions[tf.newaxis, ...])\n",
    "        pos_embeddings = tf.tile(\n",
    "            pos_embeddings, [self.batch_size, 1, 1]\n",
    "        )  # (B, num_patches, projection_dim)\n",
    "\n",
    "        # Embed the patches.\n",
    "        patch_embeddings = (\n",
    "            self.projection(patch) + pos_embeddings\n",
    "        )  # (B, num_patches, projection_dim)\n",
    "\n",
    "        # The encoder input is the unmasked patch embeddings.\n",
    "        unmasked_embeddings = tf.gather(\n",
    "            patch_embeddings, self.unmask_indices, axis=1, batch_dims=1\n",
    "        )  # (B, unmask_numbers, projection_dim)\n",
    "\n",
    "        # Get the unmasked and masked positions.\n",
    "        unmasked_positions = tf.gather(\n",
    "            pos_embeddings, self.unmask_indices, axis=1, batch_dims=1\n",
    "        )  # (B, unmask_numbers, projection_dim)\n",
    "        masked_positions = tf.gather(\n",
    "            pos_embeddings, self.mask_indices, axis=1, batch_dims=1\n",
    "        )  # (B, mask_numbers, projection_dim)\n",
    "\n",
    "        # Repeat the mask token number of mask times\n",
    "        # mask tokens replace the masks of the image.\n",
    "        mask_tokens = tf.repeat(self.mask_token, repeats=self.num_mask, axis=0)\n",
    "        mask_tokens = tf.repeat(\n",
    "            mask_tokens[tf.newaxis, ...], repeats=self.batch_size, axis=0\n",
    "        )\n",
    "\n",
    "        # Get the masked embeddings.\n",
    "        masked_embeddings = self.projection(mask_tokens) + masked_positions\n",
    "        return unmasked_embeddings, masked_embeddings, unmasked_positions\n",
    "\n",
    "    def show_masked_image(self, patches):\n",
    "        unmasked_patches = tf.gather(patches, self.unmask_indices, axis=1, batch_dims=1)\n",
    "\n",
    "        # Necessary for plotting.\n",
    "        ids = tf.argsort(self.unmask_indices)\n",
    "        sorted_unmask_indices = tf.sort(self.unmask_indices)\n",
    "        unmasked_patches = tf.gather(unmasked_patches, ids, batch_dims=1)\n",
    "\n",
    "        n = int(np.sqrt(NUM_PATCHES))\n",
    "        unmask_index = sorted_unmask_indices[0]\n",
    "        unmasked_patch = unmasked_patches[0]\n",
    "\n",
    "        plt.figure(figsize=(4, 4))\n",
    "\n",
    "        count = 0\n",
    "        for i in range(NUM_PATCHES):\n",
    "            ax = plt.subplot(n, n, i + 1)\n",
    "\n",
    "            if count < PATCH_SIZE * PATCH_SIZE and unmask_index[count].numpy() == i:\n",
    "                patch = unmasked_patch[count]\n",
    "                patch_img = tf.reshape(patch, (PATCH_SIZE, PATCH_SIZE, 3))\n",
    "                plt.imshow(keras.utils.img_to_array(patch_img))\n",
    "                plt.axis(\"off\")\n",
    "                count = count + 1\n",
    "            else:\n",
    "                patch_img = tf.zeros((PATCH_SIZE, PATCH_SIZE, 3))\n",
    "                plt.imshow(keras.utils.img_to_array(patch_img))\n",
    "                plt.axis(\"off\")\n",
    "        plt.show()"
   ]
  },
  {
   "cell_type": "code",
   "execution_count": 12,
   "metadata": {
    "colab": {
     "base_uri": "https://localhost:8080/",
     "height": 710
    },
    "id": "uPsJJ1fcRD8g",
    "outputId": "82980361-9961-48e2-f346-54816cba03db"
   },
   "outputs": [
    {
     "data": {
      "image/png": "[encoded data removed]",
      "text/plain": [
       "<Figure size 288x288 with 144 Axes>"
      ]
     },
     "metadata": {
      "needs_background": "light"
     },
     "output_type": "display_data"
    }
   ],
   "source": [
    "patch_encoder = PatchEncoder(\n",
    "    patch_size=PATCH_SIZE, projection_dim=PROJECTION_DIM, batch_size=BATCH_SIZE\n",
    ")\n",
    "unmasked_embeddings, masked_embeddings, unmasked_positions = patch_encoder(\n",
    "    patch=patches\n",
    ")\n",
    "patch_encoder.show_masked_image(patches)"
   ]
  },
  {
   "cell_type": "code",
   "execution_count": 15,
   "metadata": {},
   "outputs": [
    {
     "data": {
      "image/png": "[encoded data removed]",
      "text/plain": [
       "<Figure size 432x288 with 1 Axes>"
      ]
     },
     "metadata": {
      "needs_background": "light"
     },
     "output_type": "display_data"
    }
   ],
   "source": [
    "plt.imshow(image_batch[0])\n",
    "plt.show()"
   ]
  },
  {
   "cell_type": "markdown",
   "metadata": {
    "id": "_sfvIKrUUZE8"
   },
   "source": [
    "# Multi-Layer Perceptron"
   ]
  },
  {
   "cell_type": "code",
   "execution_count": 16,
   "metadata": {
    "id": "lrqZHsrDfnDk"
   },
   "outputs": [],
   "source": [
    "def get_mlp(hidden_units, dropout_rate):\n",
    "    layers_list = []\n",
    "    for units in hidden_units:\n",
    "        layers_list.append(layers.Dense(units, activation=tf.nn.gelu))\n",
    "        layers_list.append(layers.Dropout(dropout_rate))\n",
    "    \n",
    "    model = keras.Sequential(layers_list)\n",
    "    return model"
   ]
  },
  {
   "cell_type": "markdown",
   "metadata": {
    "id": "8wbVJxZOUcwM"
   },
   "source": [
    "# Encoder"
   ]
  },
  {
   "cell_type": "code",
   "execution_count": 17,
   "metadata": {
    "id": "n5BRsEC2QaOp"
   },
   "outputs": [],
   "source": [
    "class Encoder(layers.Layer):\n",
    "    def __init__(self, num_layers, num_heads, **kwargs):\n",
    "        super().__init__(**kwargs)\n",
    "        self.num_layers = num_layers\n",
    "        self.num_heads = num_heads\n",
    "\n",
    "    def build(self, input_shape):\n",
    "        (_, self.num_unmask, self.projection_dim) = input_shape\n",
    "        self.layer_norm1 = layers.LayerNormalization(epsilon=LAYER_NORM_EPS)\n",
    "        self.layer_norm2 = layers.LayerNormalization(epsilon=LAYER_NORM_EPS)\n",
    "        self.layer_norm3 = layers.LayerNormalization(epsilon=LAYER_NORM_EPS)\n",
    "\n",
    "        self.add1 = layers.Add()\n",
    "        self.add2 = layers.Add()\n",
    "\n",
    "        self.mlp = get_mlp(hidden_units=TRANSFORMER_UNITS, dropout_rate=0.1)\n",
    "\n",
    "        self.mha1 = layers.MultiHeadAttention(\n",
    "            num_heads=self.num_heads,\n",
    "            key_dim=self.projection_dim // self.num_heads,\n",
    "            dropout=0.1,\n",
    "        )\n",
    "\n",
    "    def call(self, inputs):\n",
    "        for _ in range(self.num_layers):\n",
    "            # Layer normalization 1.\n",
    "            x1 = self.layer_norm1(inputs)\n",
    "            # Create a multi-head attention layer.\n",
    "            attention_output = self.mha1(query=x1, value=x1)\n",
    "            # Skip connection 1.\n",
    "            x2 = self.add1([attention_output, inputs])\n",
    "            # Layer normalization 2.\n",
    "            x3 = self.layer_norm2(x2)\n",
    "            # MLP.\n",
    "            x3 = self.mlp(x3)\n",
    "            # Skip connection 2.\n",
    "            inputs = self.add2([x3, x2])\n",
    "\n",
    "        # Create the encoder ouputs\n",
    "        encoder_outputs = self.layer_norm3(inputs)\n",
    "\n",
    "        return encoder_outputs"
   ]
  },
  {
   "cell_type": "markdown",
   "metadata": {
    "id": "eEXmrt1OUeON"
   },
   "source": [
    "# Decoder"
   ]
  },
  {
   "cell_type": "code",
   "execution_count": 18,
   "metadata": {
    "id": "1b0pdemuTn4K"
   },
   "outputs": [],
   "source": [
    "class Decoder(layers.Layer):\n",
    "    def __init__(self, num_layers, num_heads, patch_size, **kwargs):\n",
    "        super().__init__(**kwargs)\n",
    "        self.num_layers = num_layers\n",
    "        self.num_heads = num_heads\n",
    "        self.patch_size = patch_size\n",
    "\n",
    "    def build(self, input_shape):\n",
    "        (_, self.num_patches, self.projection_dim) = input_shape\n",
    "        self.layer_norm1 = layers.LayerNormalization(epsilon=LAYER_NORM_EPS)\n",
    "        self.layer_norm2 = layers.LayerNormalization(epsilon=LAYER_NORM_EPS)\n",
    "        self.layer_norm3 = layers.LayerNormalization(epsilon=LAYER_NORM_EPS)\n",
    "\n",
    "        self.add1 = layers.Add()\n",
    "        self.add2 = layers.Add()\n",
    "\n",
    "        self.mlp = get_mlp(hidden_units=TRANSFORMER_UNITS, dropout_rate=0.1)\n",
    "\n",
    "        self.mha1 = layers.MultiHeadAttention(\n",
    "            num_heads=self.num_heads,\n",
    "            key_dim=self.projection_dim // self.num_heads,\n",
    "            dropout=0.1,\n",
    "        )\n",
    "\n",
    "        self.dense = layers.Dense(\n",
    "            units=self.patch_size * self.patch_size * 3, activation=\"sigmoid\"\n",
    "        )\n",
    "\n",
    "    def call(self, inputs):\n",
    "        for _ in range(self.num_layers):\n",
    "            # Layer normalization 1.\n",
    "            x1 = self.layer_norm1(inputs)\n",
    "            # Create a multi-head attention layer.\n",
    "            attention_output = self.mha1(query=x1, value=x1)\n",
    "            # Skip connection 1.\n",
    "            x2 = self.add1([attention_output, inputs])\n",
    "            # Layer normalization 2.\n",
    "            x3 = self.layer_norm2(x2)\n",
    "            # MLP.\n",
    "            x3 = self.mlp(x3)\n",
    "            # Skip connection 2.\n",
    "            inputs = self.add1([x3, x2])\n",
    "\n",
    "        # Create the encoder ouputs\n",
    "        decoder_outputs = self.layer_norm3(inputs)\n",
    "        decoder_outputs = self.dense(decoder_outputs)\n",
    "        return decoder_outputs"
   ]
  },
  {
   "cell_type": "markdown",
   "metadata": {
    "id": "zjwjMjJUUn_i"
   },
   "source": [
    "# MaskedAutoEncoder Model\n",
    "\n",
    "This is the trainer model where we encapsulate the training logic. "
   ]
  },
  {
   "cell_type": "code",
   "execution_count": 23,
   "metadata": {
    "id": "i2mm37Ew-S9X"
   },
   "outputs": [],
   "source": [
    "class MaskedAutoencoder(keras.Model):\n",
    "    def __init__(\n",
    "        self, augmentation_model, patch_layer, patch_encoder, encoder, decoder, **kwargs\n",
    "    ):\n",
    "        super().__init__(**kwargs)\n",
    "        self.augmentation_model = augmentation_model\n",
    "        self.patch_layer = patch_layer\n",
    "        self.patch_encoder = patch_encoder\n",
    "        self.encoder = encoder\n",
    "        self.decoder = decoder\n",
    "\n",
    "    def calculate_loss(self, images):\n",
    "        # Augment the input images.\n",
    "        augmeneted_images = self.augmentation_model(images)\n",
    "\n",
    "        # Patch the augmented images.\n",
    "        patches = self.patch_layer(augmeneted_images)\n",
    "\n",
    "        # Encode the patches.\n",
    "        (\n",
    "            unmasked_embeddings,\n",
    "            masked_embeddings,\n",
    "            unmasked_positions,\n",
    "        ) = self.patch_encoder(patches)\n",
    "        encoder_outputs = self.encoder(unmasked_embeddings)\n",
    "\n",
    "        # Create the decoder inputs.\n",
    "        encoder_outputs = encoder_outputs + unmasked_positions\n",
    "        decoder_inputs = tf.concat([encoder_outputs, masked_embeddings], axis=1)\n",
    "\n",
    "        # Decode the inputs.\n",
    "        decoder_outputs = self.decoder(decoder_inputs)\n",
    "\n",
    "        loss_patch = tf.gather(\n",
    "            patches, self.patch_encoder.mask_indices, axis=1, batch_dims=1\n",
    "        )\n",
    "        loss_output = tf.gather(\n",
    "            decoder_outputs, self.patch_encoder.mask_indices, axis=1, batch_dims=1\n",
    "        )\n",
    "\n",
    "        # Compute the total loss.\n",
    "        total_loss = self.compiled_loss(loss_patch, loss_output)\n",
    "\n",
    "        return total_loss, loss_patch, loss_output\n",
    "\n",
    "    def train_step(self, images):\n",
    "        with tf.GradientTape() as tape:\n",
    "            total_loss, loss_patch, loss_output = self.calculate_loss(images)\n",
    "\n",
    "        # Apply gradients\n",
    "        train_vars = [\n",
    "            self.augmentation_model.trainable_variables,\n",
    "            self.patch_layer.trainable_variables,\n",
    "            self.patch_encoder.trainable_variables,\n",
    "            self.encoder.trainable_variables,\n",
    "            self.decoder.trainable_variables,\n",
    "        ]\n",
    "        grads = tape.gradient(total_loss, train_vars)\n",
    "        tv_list = []\n",
    "        for (grad, var) in zip(grads, train_vars):\n",
    "            for g, v in zip(grad, var):\n",
    "                tv_list.append((g, v))\n",
    "        self.optimizer.apply_gradients(tv_list)\n",
    "\n",
    "        # Report progress.\n",
    "        self.compiled_metrics.update_state(loss_patch, loss_output)\n",
    "        return {m.name: m.result() for m in self.metrics}\n",
    "\n",
    "    def test_step(self, images):\n",
    "        total_loss, loss_patch, loss_output = self.calculate_loss(images)\n",
    "\n",
    "        # Update the trackers.\n",
    "        self.compiled_metrics.update_state(loss_patch, loss_output)\n",
    "        return {m.name: m.result() for m in self.metrics}"
   ]
  },
  {
   "cell_type": "markdown",
   "metadata": {},
   "source": [
    "## Model compilation "
   ]
  },
  {
   "cell_type": "code",
   "execution_count": 24,
   "metadata": {
    "id": "1S5OCq-QLIoC"
   },
   "outputs": [],
   "source": [
    "keras.backend.clear_session()\n",
    "\n",
    "augmentation_model = get_augmentation_model()\n",
    "patch_layer = Patches(patch_size=PATCH_SIZE)\n",
    "patch_encoder = PatchEncoder(\n",
    "    patch_size=PATCH_SIZE, projection_dim=PROJECTION_DIM, batch_size=BATCH_SIZE\n",
    ")\n",
    "encoder = Encoder(num_layers=ENC_LAYERS, num_heads=ENC_NUM_HEADS)\n",
    "decoder = Decoder(num_layers=DEC_LAYERS, num_heads=DEC_NUM_HEADS, patch_size=PATCH_SIZE)\n",
    "\n",
    "\n",
    "with strategy.scope():\n",
    "    mae = MaskedAutoencoder(\n",
    "        augmentation_model=augmentation_model,\n",
    "        patch_layer=patch_layer,\n",
    "        patch_encoder=patch_encoder,\n",
    "        encoder=encoder,\n",
    "        decoder=decoder,\n",
    "    )\n",
    "\n",
    "    optimizer = tfa.optimizers.AdamW(\n",
    "        learning_rate=LEARNING_RATE, weight_decay=WEIGHT_DECAY\n",
    "    )\n",
    "\n",
    "    mae.compile(\n",
    "        optimizer=optimizer, loss=keras.losses.MeanSquaredError(), metrics=[\"mae\"]\n",
    "    )"
   ]
  },
  {
   "cell_type": "markdown",
   "metadata": {},
   "source": [
    "## Training callbacks"
   ]
  },
  {
   "cell_type": "code",
   "execution_count": 25,
   "metadata": {
    "id": "KTFe7p57lADH"
   },
   "outputs": [],
   "source": [
    "# Taking a batch of test inputs to measure model's progress. \n",
    "test_images = next(iter(test_ds))\n",
    "aug_model = get_test_augmentation_model()\n",
    "test_augmeneted_images = aug_model(test_images)\n",
    "\n",
    "\n",
    "class TrainMonitor(tf.keras.callbacks.Callback):\n",
    "    def __init__(self, epoch_interval=None):\n",
    "        self.epoch_interval = epoch_interval\n",
    "        \n",
    "    def on_epoch_end(self, epoch, logs=None):\n",
    "        if epoch_interval and self.epoch_interval % epoch == 0:\n",
    "            test_patches = self.model.patch_layer(test_augmeneted_images)\n",
    "            (\n",
    "                test_unmasked_embeddings,\n",
    "                test_masked_embeddings,\n",
    "                test_unmasked_positions,\n",
    "            ) = self.model.patch_encoder(test_patches)\n",
    "            test_encoder_outputs = self.model.encoder(test_unmasked_embeddings)\n",
    "            test_encoder_outputs = test_encoder_outputs + test_unmasked_positions\n",
    "            test_decoder_inputs = tf.concat(\n",
    "                [test_encoder_outputs, test_masked_embeddings], axis=1\n",
    "            )\n",
    "            test_decoder_outputs = self.model.decoder(test_decoder_inputs)\n",
    "\n",
    "            # Plot the images.\n",
    "            idx = np.random.choice(len(test_patches))\n",
    "            original = self.model.patch_layer.reconstruct_from_patch(test_patches[idx])\n",
    "            reconstructed = self.model.patch_layer.reconstruct_from_patch(\n",
    "                test_decoder_outputs[idx]\n",
    "            )\n",
    "            fig, ax = plt.subplots(nrows=1, ncols=2, figsize=(10, 5))\n",
    "            ax[0].imshow(tf.keras.preprocessing.image.array_to_img(original))\n",
    "            ax[0].set_title(f\"Original: {epoch:03d}\")\n",
    "\n",
    "            ax[1].imshow(tf.keras.preprocessing.image.array_to_img(reconstructed))\n",
    "            ax[1].set_title(f\"Resonstructed: {epoch:03d}\")\n",
    "\n",
    "            plt.show()\n",
    "            plt.close()"
   ]
  },
  {
   "cell_type": "code",
   "execution_count": 26,
   "metadata": {
    "id": "OvutXCDrklPo"
   },
   "outputs": [],
   "source": [
    "train_callbacks = [\n",
    "    keras.callbacks.ReduceLROnPlateau(\n",
    "        monitor=\"val_loss\", factor=0.5, patience=3, verbose=1\n",
    "    ),\n",
    "    TrainMonitor(),\n",
    "]"
   ]
  },
  {
   "cell_type": "markdown",
   "metadata": {},
   "source": [
    "## Model training"
   ]
  },
  {
   "cell_type": "code",
   "execution_count": null,
   "metadata": {
    "colab": {
     "base_uri": "https://localhost:8080/",
     "height": 1000
    },
    "id": "-lkHB5r3kQuQ",
    "outputId": "79651f95-1b76-49bb-8027-d73657c0bbf2"
   },
   "outputs": [
    {
     "name": "stdout",
     "output_type": "stream",
     "text": [
      "Epoch 1/10\n"
     ]
    },
    {
     "name": "stderr",
     "output_type": "stream",
     "text": [
      "2021-11-16 18:57:15.144343: I tensorflow/compiler/mlir/mlir_graph_optimization_pass.cc:185] None of the MLIR Optimization Passes are enabled (registered 2)\n"
     ]
    },
    {
     "name": "stdout",
     "output_type": "stream",
     "text": [
      "12/15 [=======================>......] - ETA: 30s - loss: 0.0821 - mae: 0.2351"
     ]
    }
   ],
   "source": [
    "history = mae.fit(\n",
    "    train_ds.take(15),\n",
    "    epochs=EPOCHS,\n",
    "    validation_data=val_ds.take(5),\n",
    "    callbacks=train_callbacks,\n",
    ")"
   ]
  },
  {
   "cell_type": "code",
   "execution_count": 21,
   "metadata": {
    "colab": {
     "base_uri": "https://localhost:8080/"
    },
    "id": "9rr_h7O6Q7S_",
    "outputId": "68e10da2-3216-4183-b447-c5f06bfdc492"
   },
   "outputs": [
    {
     "name": "stdout",
     "output_type": "stream",
     "text": [
      "5/5 [==============================] - 1s 121ms/step - loss: 0.0418\n",
      "Loss: 0.04\n"
     ]
    }
   ],
   "source": [
    "loss = mae.evaluate(test_ds, steps=5)\n",
    "print(f\"Loss: {loss:.2f}\")"
   ]
  }
 ],
 "metadata": {
  "accelerator": "GPU",
  "colab": {
   "authorship_tag": "ABX9TyO2Arg3X4H2Wu+yzn93y7vR",
   "collapsed_sections": [],
   "machine_shape": "hm",
   "name": "MaskedAutoEncoders.ipynb",
   "provenance": []
  },
  "kernelspec": {
   "display_name": "Python 3 (ipykernel)",
   "language": "python",
   "name": "python3"
  },
  "language_info": {
   "codemirror_mode": {
    "name": "ipython",
    "version": 3
   },
   "file_extension": ".py",
   "mimetype": "text/x-python",
   "name": "python",
   "nbconvert_exporter": "python",
   "pygments_lexer": "ipython3",
   "version": "3.8.2"
  }
 },
 "nbformat": 4,
 "nbformat_minor": 1
}
